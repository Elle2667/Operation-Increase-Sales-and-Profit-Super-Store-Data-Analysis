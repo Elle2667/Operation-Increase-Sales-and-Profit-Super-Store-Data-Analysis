{
 "cells": [
  {
   "cell_type": "markdown",
   "metadata": {
    "id": "sdrPYGTvbBsP"
   },
   "source": [
    "## Operation Increase Sales and Profit (OISP) Data Analysis\n",
    "\n",
    "### Problem Statement\n",
    "\n",
    "A multinational retail company is launching an initiative named **'Operation Increase Sales and Profit' (OISP)** aimed at boosting sales and maximizing profit. However, before implementing any strategies, the management team seeks to gain insights from their existing sales data. As the Data Analyst, you are tasked with analyzing the four-year daily sales records provided in the dataset **superstore_data.csv**.\n",
    "\n",
    "### Task\n",
    "\n",
    "The objective is to analyze the data and provide actionable insights to the management team on how to increase sales and profit as envisioned in the campaign. The analysis should follow the CRISP-DM (Cross Industry Standard Process for Data Mining) methodology, asking relevant questions and providing answers based on the data. Management expects statistical summaries of key variables, visualizations, and a comprehensive report on findings and recommendations.\n",
    "\n",
    "### Content/Analytical Steps\n",
    "\n",
    "1. **Business Understanding**\n",
    "   - Understand the goals and objectives of the 'Operation Increase Sales and Profit' campaign.\n",
    "   - Define key performance indicators (KPIs) related to sales and profit.\n",
    "\n",
    "2. **Data Understanding**\n",
    "   - Explore the provided dataset (superstore_data.csv).\n",
    "   - Identify key variables such as sales, profit, unit price, shipping cost, discounts, and shipping interval.\n",
    "   - Assess data quality, missing values, and outliers.\n",
    "\n",
    "3. **Data Preparation**\n",
    "   - Clean the data by handling missing values and outliers if necessary.\n",
    "   - Format variables appropriately for analysis.\n",
    "   - Create derived variables if needed.\n",
    "\n",
    "4. **Exploratory Data Analysis (EDA)**\n",
    "   - Perform statistical summaries and visualizations of key variables.\n",
    "   - Analyze trends, patterns, and correlations among variables.\n",
    "   - Identify factors influencing sales and profit.\n",
    "\n",
    "5. **Insights and Recommendations**\n",
    "   - Draw insights from the analysis regarding sales and profit drivers.\n",
    "   - Provide recommendations to the management team based on the findings.\n",
    "   - Propose actionable strategies to increase sales and profit.\n",
    "\n",
    "\n",
    "\n",
    "\n",
    "\n",
    "\n",
    "\n"
   ]
  },
  {
   "cell_type": "markdown",
   "metadata": {
    "id": "MvznFN6kbBsa"
   },
   "source": [
    "### IMPORTING PACKAGES"
   ]
  },
  {
   "cell_type": "code",
   "execution_count": 90,
   "metadata": {
    "executionInfo": {
     "elapsed": 1389,
     "status": "ok",
     "timestamp": 1711036011994,
     "user": {
      "displayName": "Courses Content",
      "userId": "00634885927322614060"
     },
     "user_tz": 0
    },
    "id": "g0buz-aUbBsc"
   },
   "outputs": [],
   "source": [
    "##Importing the necessary packages\n",
    "import pandas as pd\n",
    "import numpy as np\n",
    "import matplotlib.pyplot as plt\n",
    "import seaborn as sns\n",
    "import warnings\n",
    "warnings.filterwarnings('ignore')\n",
    "\n",
    "from sklearn.model_selection import train_test_split\n",
    "from sklearn.linear_model import LinearRegression\n",
    "from sklearn import metrics\n",
    "\n",
    "%matplotlib inline\n",
    "pd.set_option('display.max_colwidth',None)\n",
    "pd.set_option('display.max_columns',None)\n"
   ]
  },
  {
   "cell_type": "code",
   "execution_count": 91,
   "metadata": {
    "id": "QdpiI__7bBse"
   },
   "outputs": [],
   "source": [
    "#Reading the data\n",
    "#NB: Make sure you the data in your current working directory\n",
    "\n",
    "data = pd.read_csv('superstore data.csv',parse_dates = ['Order Date','Ship Date'],encoding = 'latin1')"
   ]
  },
  {
   "cell_type": "code",
   "execution_count": 92,
   "metadata": {},
   "outputs": [
    {
     "name": "stdout",
     "output_type": "stream",
     "text": [
      " Volume in drive C has no label.\n",
      " Volume Serial Number is 3CF6-C7AB\n",
      "\n",
      " Directory of C:\\Users\\agnes\\OneDrive\\Documents\\GIZ Women in AI\\Assignments\n",
      "\n",
      "05/19/2024  03:41 PM    <DIR>          .\n",
      "05/19/2024  03:41 PM    <DIR>          ..\n",
      "05/19/2024  02:28 PM    <DIR>          .ipynb_checkpoints\n",
      "05/17/2024  10:30 PM         4,457,919 Entrepreneurship and Adaptability.pptx\n",
      "05/16/2024  10:06 AM         4,462,189 Entrepreneurship by Discover Template[1].pptx\n",
      "05/13/2024  09:46 PM           663,436 FoodHub Data_Analysis.ipynb\n",
      "03/21/2024  11:09 AM           123,933 foodhub_order.csv\n",
      "05/19/2024  03:41 PM           666,470 Joelle's Copy Mid-Course Project (Data Analysis Project).ipynb\n",
      "04/03/2024  08:56 AM        35,502,620 Joelles Excel Assignment.xlsx\n",
      "05/18/2024  11:37 AM           455,560 Malignant Melanoma Patient Data.ipynb\n",
      "03/27/2024  02:15 PM             5,127 melanoma.csv\n",
      "05/19/2024  02:56 PM           833,690 Mid-Course Project (Data Analysis Project 1).ipynb\n",
      "05/19/2024  01:55 PM         2,426,328 Mid-Course Project (Data Analysis Project) Group 3-checkpoint.ipynb\n",
      "04/11/2024  06:52 PM            12,962 Mid-Course Project (Data Analysis Project).ipynb\n",
      "03/25/2024  09:42 AM        12,033,474 superstore data.csv\n",
      "04/04/2024  05:04 PM         7,426,125 The_OISP_Campaign_Group3.pptx\n",
      "              13 File(s)     69,069,833 bytes\n",
      "               3 Dir(s)  40,965,345,280 bytes free\n"
     ]
    }
   ],
   "source": [
    "ls\n"
   ]
  },
  {
   "cell_type": "markdown",
   "metadata": {},
   "source": [
    "### DATA CLEANING"
   ]
  },
  {
   "cell_type": "markdown",
   "metadata": {},
   "source": [
    "#### Sanity Checks"
   ]
  },
  {
   "cell_type": "code",
   "execution_count": 93,
   "metadata": {
    "id": "-gotZV63bBsf",
    "outputId": "bc6ca281-7492-484a-a75f-8b8e26ec4bf7"
   },
   "outputs": [
    {
     "data": {
      "text/html": [
       "<div>\n",
       "<style scoped>\n",
       "    .dataframe tbody tr th:only-of-type {\n",
       "        vertical-align: middle;\n",
       "    }\n",
       "\n",
       "    .dataframe tbody tr th {\n",
       "        vertical-align: top;\n",
       "    }\n",
       "\n",
       "    .dataframe thead th {\n",
       "        text-align: right;\n",
       "    }\n",
       "</style>\n",
       "<table border=\"1\" class=\"dataframe\">\n",
       "  <thead>\n",
       "    <tr style=\"text-align: right;\">\n",
       "      <th></th>\n",
       "      <th>Row ID</th>\n",
       "      <th>Order ID</th>\n",
       "      <th>Order Date</th>\n",
       "      <th>Ship Date</th>\n",
       "      <th>Ship Mode</th>\n",
       "      <th>Customer ID</th>\n",
       "      <th>Customer Name</th>\n",
       "      <th>Segment</th>\n",
       "      <th>City</th>\n",
       "      <th>State</th>\n",
       "      <th>Country</th>\n",
       "      <th>Postal Code</th>\n",
       "      <th>Market</th>\n",
       "      <th>Region</th>\n",
       "      <th>Product ID</th>\n",
       "      <th>Category</th>\n",
       "      <th>Sub-Category</th>\n",
       "      <th>Product Name</th>\n",
       "      <th>Sales</th>\n",
       "      <th>Quantity</th>\n",
       "      <th>Discount</th>\n",
       "      <th>Profit</th>\n",
       "      <th>Shipping Cost</th>\n",
       "      <th>Order Priority</th>\n",
       "    </tr>\n",
       "  </thead>\n",
       "  <tbody>\n",
       "    <tr>\n",
       "      <th>0</th>\n",
       "      <td>42433</td>\n",
       "      <td>AG-2011-2040</td>\n",
       "      <td>1/1/2011</td>\n",
       "      <td>6/1/2011</td>\n",
       "      <td>Standard Class</td>\n",
       "      <td>TB-11280</td>\n",
       "      <td>Toby Braunhardt</td>\n",
       "      <td>Consumer</td>\n",
       "      <td>Constantine</td>\n",
       "      <td>Constantine</td>\n",
       "      <td>Algeria</td>\n",
       "      <td>NaN</td>\n",
       "      <td>Africa</td>\n",
       "      <td>Africa</td>\n",
       "      <td>OFF-TEN-10000025</td>\n",
       "      <td>Office Supplies</td>\n",
       "      <td>Storage</td>\n",
       "      <td>Tenex Lockers, Blue</td>\n",
       "      <td>408.300</td>\n",
       "      <td>2</td>\n",
       "      <td>0.0</td>\n",
       "      <td>106.140</td>\n",
       "      <td>35.46</td>\n",
       "      <td>Medium</td>\n",
       "    </tr>\n",
       "    <tr>\n",
       "      <th>1</th>\n",
       "      <td>22253</td>\n",
       "      <td>IN-2011-47883</td>\n",
       "      <td>1/1/2011</td>\n",
       "      <td>8/1/2011</td>\n",
       "      <td>Standard Class</td>\n",
       "      <td>JH-15985</td>\n",
       "      <td>Joseph Holt</td>\n",
       "      <td>Consumer</td>\n",
       "      <td>Wagga Wagga</td>\n",
       "      <td>New South Wales</td>\n",
       "      <td>Australia</td>\n",
       "      <td>NaN</td>\n",
       "      <td>APAC</td>\n",
       "      <td>Oceania</td>\n",
       "      <td>OFF-SU-10000618</td>\n",
       "      <td>Office Supplies</td>\n",
       "      <td>Supplies</td>\n",
       "      <td>Acme Trimmer, High Speed</td>\n",
       "      <td>120.366</td>\n",
       "      <td>3</td>\n",
       "      <td>0.1</td>\n",
       "      <td>36.036</td>\n",
       "      <td>9.72</td>\n",
       "      <td>Medium</td>\n",
       "    </tr>\n",
       "    <tr>\n",
       "      <th>2</th>\n",
       "      <td>48883</td>\n",
       "      <td>HU-2011-1220</td>\n",
       "      <td>1/1/2011</td>\n",
       "      <td>5/1/2011</td>\n",
       "      <td>Second Class</td>\n",
       "      <td>AT-735</td>\n",
       "      <td>Annie Thurman</td>\n",
       "      <td>Consumer</td>\n",
       "      <td>Budapest</td>\n",
       "      <td>Budapest</td>\n",
       "      <td>Hungary</td>\n",
       "      <td>NaN</td>\n",
       "      <td>EMEA</td>\n",
       "      <td>EMEA</td>\n",
       "      <td>OFF-TEN-10001585</td>\n",
       "      <td>Office Supplies</td>\n",
       "      <td>Storage</td>\n",
       "      <td>Tenex Box, Single Width</td>\n",
       "      <td>66.120</td>\n",
       "      <td>4</td>\n",
       "      <td>0.0</td>\n",
       "      <td>29.640</td>\n",
       "      <td>8.17</td>\n",
       "      <td>High</td>\n",
       "    </tr>\n",
       "  </tbody>\n",
       "</table>\n",
       "</div>"
      ],
      "text/plain": [
       "   Row ID       Order ID Order Date Ship Date       Ship Mode Customer ID  \\\n",
       "0   42433   AG-2011-2040   1/1/2011  6/1/2011  Standard Class    TB-11280   \n",
       "1   22253  IN-2011-47883   1/1/2011  8/1/2011  Standard Class    JH-15985   \n",
       "2   48883   HU-2011-1220   1/1/2011  5/1/2011    Second Class      AT-735   \n",
       "\n",
       "     Customer Name   Segment         City            State    Country  \\\n",
       "0  Toby Braunhardt  Consumer  Constantine      Constantine    Algeria   \n",
       "1      Joseph Holt  Consumer  Wagga Wagga  New South Wales  Australia   \n",
       "2    Annie Thurman  Consumer     Budapest         Budapest    Hungary   \n",
       "\n",
       "   Postal Code  Market   Region        Product ID         Category  \\\n",
       "0          NaN  Africa   Africa  OFF-TEN-10000025  Office Supplies   \n",
       "1          NaN    APAC  Oceania   OFF-SU-10000618  Office Supplies   \n",
       "2          NaN    EMEA     EMEA  OFF-TEN-10001585  Office Supplies   \n",
       "\n",
       "  Sub-Category              Product Name    Sales  Quantity  Discount  \\\n",
       "0      Storage       Tenex Lockers, Blue  408.300         2       0.0   \n",
       "1     Supplies  Acme Trimmer, High Speed  120.366         3       0.1   \n",
       "2      Storage   Tenex Box, Single Width   66.120         4       0.0   \n",
       "\n",
       "    Profit  Shipping Cost Order Priority  \n",
       "0  106.140          35.46         Medium  \n",
       "1   36.036           9.72         Medium  \n",
       "2   29.640           8.17           High  "
      ]
     },
     "execution_count": 93,
     "metadata": {},
     "output_type": "execute_result"
    }
   ],
   "source": [
    "data.head(3)"
   ]
  },
  {
   "cell_type": "code",
   "execution_count": 94,
   "metadata": {},
   "outputs": [
    {
     "data": {
      "text/html": [
       "<div>\n",
       "<style scoped>\n",
       "    .dataframe tbody tr th:only-of-type {\n",
       "        vertical-align: middle;\n",
       "    }\n",
       "\n",
       "    .dataframe tbody tr th {\n",
       "        vertical-align: top;\n",
       "    }\n",
       "\n",
       "    .dataframe thead th {\n",
       "        text-align: right;\n",
       "    }\n",
       "</style>\n",
       "<table border=\"1\" class=\"dataframe\">\n",
       "  <thead>\n",
       "    <tr style=\"text-align: right;\">\n",
       "      <th></th>\n",
       "      <th>Row ID</th>\n",
       "      <th>Order ID</th>\n",
       "      <th>Order Date</th>\n",
       "      <th>Ship Date</th>\n",
       "      <th>Ship Mode</th>\n",
       "      <th>Customer ID</th>\n",
       "      <th>Customer Name</th>\n",
       "      <th>Segment</th>\n",
       "      <th>City</th>\n",
       "      <th>State</th>\n",
       "      <th>Country</th>\n",
       "      <th>Postal Code</th>\n",
       "      <th>Market</th>\n",
       "      <th>Region</th>\n",
       "      <th>Product ID</th>\n",
       "      <th>Category</th>\n",
       "      <th>Sub-Category</th>\n",
       "      <th>Product Name</th>\n",
       "      <th>Sales</th>\n",
       "      <th>Quantity</th>\n",
       "      <th>Discount</th>\n",
       "      <th>Profit</th>\n",
       "      <th>Shipping Cost</th>\n",
       "      <th>Order Priority</th>\n",
       "    </tr>\n",
       "  </thead>\n",
       "  <tbody>\n",
       "    <tr>\n",
       "      <th>51285</th>\n",
       "      <td>32593</td>\n",
       "      <td>CA-2014-115427</td>\n",
       "      <td>31-12-2014</td>\n",
       "      <td>4/1/2015</td>\n",
       "      <td>Standard Class</td>\n",
       "      <td>EB-13975</td>\n",
       "      <td>Erica Bern</td>\n",
       "      <td>Corporate</td>\n",
       "      <td>Fairfield</td>\n",
       "      <td>California</td>\n",
       "      <td>United States</td>\n",
       "      <td>94533.0</td>\n",
       "      <td>US</td>\n",
       "      <td>West</td>\n",
       "      <td>OFF-BI-10002103</td>\n",
       "      <td>Office Supplies</td>\n",
       "      <td>Binders</td>\n",
       "      <td>Cardinal Slant-D Ring Binder, Heavy Gauge Vinyl</td>\n",
       "      <td>13.904</td>\n",
       "      <td>2</td>\n",
       "      <td>0.2</td>\n",
       "      <td>4.5188</td>\n",
       "      <td>0.89</td>\n",
       "      <td>Medium</td>\n",
       "    </tr>\n",
       "    <tr>\n",
       "      <th>51286</th>\n",
       "      <td>47594</td>\n",
       "      <td>MO-2014-2560</td>\n",
       "      <td>31-12-2014</td>\n",
       "      <td>5/1/2015</td>\n",
       "      <td>Standard Class</td>\n",
       "      <td>LP-7095</td>\n",
       "      <td>Liz Preis</td>\n",
       "      <td>Consumer</td>\n",
       "      <td>Agadir</td>\n",
       "      <td>Souss-Massa-Draâ</td>\n",
       "      <td>Morocco</td>\n",
       "      <td>NaN</td>\n",
       "      <td>Africa</td>\n",
       "      <td>Africa</td>\n",
       "      <td>OFF-WIL-10001069</td>\n",
       "      <td>Office Supplies</td>\n",
       "      <td>Binders</td>\n",
       "      <td>Wilson Jones Hole Reinforcements, Clear</td>\n",
       "      <td>3.990</td>\n",
       "      <td>1</td>\n",
       "      <td>0.0</td>\n",
       "      <td>0.4200</td>\n",
       "      <td>0.49</td>\n",
       "      <td>Medium</td>\n",
       "    </tr>\n",
       "    <tr>\n",
       "      <th>51287</th>\n",
       "      <td>8857</td>\n",
       "      <td>MX-2014-110527</td>\n",
       "      <td>31-12-2014</td>\n",
       "      <td>2/1/2015</td>\n",
       "      <td>Second Class</td>\n",
       "      <td>CM-12190</td>\n",
       "      <td>Charlotte Melton</td>\n",
       "      <td>Consumer</td>\n",
       "      <td>Managua</td>\n",
       "      <td>Managua</td>\n",
       "      <td>Nicaragua</td>\n",
       "      <td>NaN</td>\n",
       "      <td>LATAM</td>\n",
       "      <td>Central</td>\n",
       "      <td>OFF-LA-10004182</td>\n",
       "      <td>Office Supplies</td>\n",
       "      <td>Labels</td>\n",
       "      <td>Hon Color Coded Labels, 5000 Label Set</td>\n",
       "      <td>26.400</td>\n",
       "      <td>3</td>\n",
       "      <td>0.0</td>\n",
       "      <td>12.3600</td>\n",
       "      <td>0.35</td>\n",
       "      <td>Medium</td>\n",
       "    </tr>\n",
       "    <tr>\n",
       "      <th>51288</th>\n",
       "      <td>6852</td>\n",
       "      <td>MX-2014-114783</td>\n",
       "      <td>31-12-2014</td>\n",
       "      <td>6/1/2015</td>\n",
       "      <td>Standard Class</td>\n",
       "      <td>TD-20995</td>\n",
       "      <td>Tamara Dahlen</td>\n",
       "      <td>Consumer</td>\n",
       "      <td>Juárez</td>\n",
       "      <td>Chihuahua</td>\n",
       "      <td>Mexico</td>\n",
       "      <td>NaN</td>\n",
       "      <td>LATAM</td>\n",
       "      <td>North</td>\n",
       "      <td>OFF-LA-10000413</td>\n",
       "      <td>Office Supplies</td>\n",
       "      <td>Labels</td>\n",
       "      <td>Hon Legal Exhibit Labels, Alphabetical</td>\n",
       "      <td>7.120</td>\n",
       "      <td>1</td>\n",
       "      <td>0.0</td>\n",
       "      <td>0.5600</td>\n",
       "      <td>0.20</td>\n",
       "      <td>Medium</td>\n",
       "    </tr>\n",
       "    <tr>\n",
       "      <th>51289</th>\n",
       "      <td>36388</td>\n",
       "      <td>CA-2014-156720</td>\n",
       "      <td>31-12-2014</td>\n",
       "      <td>4/1/2015</td>\n",
       "      <td>Standard Class</td>\n",
       "      <td>JM-15580</td>\n",
       "      <td>Jill Matthias</td>\n",
       "      <td>Consumer</td>\n",
       "      <td>Loveland</td>\n",
       "      <td>Colorado</td>\n",
       "      <td>United States</td>\n",
       "      <td>80538.0</td>\n",
       "      <td>US</td>\n",
       "      <td>West</td>\n",
       "      <td>OFF-FA-10003472</td>\n",
       "      <td>Office Supplies</td>\n",
       "      <td>Fasteners</td>\n",
       "      <td>Bagged Rubber Bands</td>\n",
       "      <td>3.024</td>\n",
       "      <td>3</td>\n",
       "      <td>0.2</td>\n",
       "      <td>-0.6048</td>\n",
       "      <td>0.17</td>\n",
       "      <td>Medium</td>\n",
       "    </tr>\n",
       "  </tbody>\n",
       "</table>\n",
       "</div>"
      ],
      "text/plain": [
       "       Row ID        Order ID  Order Date Ship Date       Ship Mode  \\\n",
       "51285   32593  CA-2014-115427  31-12-2014  4/1/2015  Standard Class   \n",
       "51286   47594    MO-2014-2560  31-12-2014  5/1/2015  Standard Class   \n",
       "51287    8857  MX-2014-110527  31-12-2014  2/1/2015    Second Class   \n",
       "51288    6852  MX-2014-114783  31-12-2014  6/1/2015  Standard Class   \n",
       "51289   36388  CA-2014-156720  31-12-2014  4/1/2015  Standard Class   \n",
       "\n",
       "      Customer ID     Customer Name    Segment       City             State  \\\n",
       "51285    EB-13975        Erica Bern  Corporate  Fairfield        California   \n",
       "51286     LP-7095         Liz Preis   Consumer     Agadir  Souss-Massa-Draâ   \n",
       "51287    CM-12190  Charlotte Melton   Consumer    Managua           Managua   \n",
       "51288    TD-20995     Tamara Dahlen   Consumer     Juárez         Chihuahua   \n",
       "51289    JM-15580     Jill Matthias   Consumer   Loveland          Colorado   \n",
       "\n",
       "             Country  Postal Code  Market   Region        Product ID  \\\n",
       "51285  United States      94533.0      US     West   OFF-BI-10002103   \n",
       "51286        Morocco          NaN  Africa   Africa  OFF-WIL-10001069   \n",
       "51287      Nicaragua          NaN   LATAM  Central   OFF-LA-10004182   \n",
       "51288         Mexico          NaN   LATAM    North   OFF-LA-10000413   \n",
       "51289  United States      80538.0      US     West   OFF-FA-10003472   \n",
       "\n",
       "              Category Sub-Category  \\\n",
       "51285  Office Supplies      Binders   \n",
       "51286  Office Supplies      Binders   \n",
       "51287  Office Supplies       Labels   \n",
       "51288  Office Supplies       Labels   \n",
       "51289  Office Supplies    Fasteners   \n",
       "\n",
       "                                          Product Name   Sales  Quantity  \\\n",
       "51285  Cardinal Slant-D Ring Binder, Heavy Gauge Vinyl  13.904         2   \n",
       "51286          Wilson Jones Hole Reinforcements, Clear   3.990         1   \n",
       "51287           Hon Color Coded Labels, 5000 Label Set  26.400         3   \n",
       "51288           Hon Legal Exhibit Labels, Alphabetical   7.120         1   \n",
       "51289                              Bagged Rubber Bands   3.024         3   \n",
       "\n",
       "       Discount   Profit  Shipping Cost Order Priority  \n",
       "51285       0.2   4.5188           0.89         Medium  \n",
       "51286       0.0   0.4200           0.49         Medium  \n",
       "51287       0.0  12.3600           0.35         Medium  \n",
       "51288       0.0   0.5600           0.20         Medium  \n",
       "51289       0.2  -0.6048           0.17         Medium  "
      ]
     },
     "execution_count": 94,
     "metadata": {},
     "output_type": "execute_result"
    }
   ],
   "source": [
    "data.tail()"
   ]
  },
  {
   "cell_type": "code",
   "execution_count": 95,
   "metadata": {
    "id": "HftiO4ZZbBsg",
    "outputId": "91f1bf1d-6b3c-435d-cf53-82dd5f0870d7",
    "scrolled": false
   },
   "outputs": [
    {
     "name": "stdout",
     "output_type": "stream",
     "text": [
      "Row ID\n",
      "Order ID\n",
      "Order Date\n",
      "Ship Date\n",
      "Ship Mode\n",
      "Customer ID\n",
      "Customer Name\n",
      "Segment\n",
      "City\n",
      "State\n",
      "Country\n",
      "Postal Code\n",
      "Market\n",
      "Region\n",
      "Product ID\n",
      "Category\n",
      "Sub-Category\n",
      "Product Name\n",
      "Sales\n",
      "Quantity\n",
      "Discount\n",
      "Profit\n",
      "Shipping Cost\n",
      "Order Priority\n"
     ]
    }
   ],
   "source": [
    "for col in data.columns:\n",
    "    print(col)"
   ]
  },
  {
   "cell_type": "code",
   "execution_count": 96,
   "metadata": {},
   "outputs": [
    {
     "data": {
      "text/plain": [
       "Row ID                0\n",
       "Order ID              0\n",
       "Order Date            0\n",
       "Ship Date             0\n",
       "Ship Mode             0\n",
       "Customer ID           0\n",
       "Customer Name         0\n",
       "Segment               0\n",
       "City                  0\n",
       "State                 0\n",
       "Country               0\n",
       "Postal Code       41296\n",
       "Market                0\n",
       "Region                0\n",
       "Product ID            0\n",
       "Category              0\n",
       "Sub-Category          0\n",
       "Product Name          0\n",
       "Sales                 0\n",
       "Quantity              0\n",
       "Discount              0\n",
       "Profit                0\n",
       "Shipping Cost         0\n",
       "Order Priority        0\n",
       "dtype: int64"
      ]
     },
     "execution_count": 96,
     "metadata": {},
     "output_type": "execute_result"
    }
   ],
   "source": [
    "data.isnull().sum()"
   ]
  },
  {
   "cell_type": "code",
   "execution_count": 97,
   "metadata": {},
   "outputs": [
    {
     "data": {
      "text/plain": [
       "Postal Code\n",
       "True     41296\n",
       "False     9994\n",
       "Name: count, dtype: int64"
      ]
     },
     "execution_count": 97,
     "metadata": {},
     "output_type": "execute_result"
    }
   ],
   "source": [
    "# there are 41296 missing values in postal code\n",
    "\n",
    "postal=data[\"Postal Code\"].isnull().value_counts()\n",
    "postal\n"
   ]
  },
  {
   "cell_type": "code",
   "execution_count": 98,
   "metadata": {},
   "outputs": [
    {
     "data": {
      "image/png": "[encoded data removed]",
      "text/plain": [
       "<Figure size 640x480 with 1 Axes>"
      ]
     },
     "metadata": {},
     "output_type": "display_data"
    }
   ],
   "source": [
    "fig, ax=plt.subplots()\n",
    "\n",
    "ax.bar(x=postal.index, height=postal, data=data, color=\"green\")\n",
    "\n",
    "ax.set_xlabel(\"Postal codes\")\n",
    "ax.set_ylabel(\"Number of number null values\")\n",
    "ax.set_title(\"Distribution of Postal code\")\n",
    "plt.show()\n"
   ]
  },
  {
   "cell_type": "code",
   "execution_count": 99,
   "metadata": {},
   "outputs": [
    {
     "name": "stdout",
     "output_type": "stream",
     "text": [
      "<class 'pandas.core.frame.DataFrame'>\n",
      "RangeIndex: 51290 entries, 0 to 51289\n",
      "Data columns (total 24 columns):\n",
      " #   Column          Non-Null Count  Dtype  \n",
      "---  ------          --------------  -----  \n",
      " 0   Row ID          51290 non-null  int64  \n",
      " 1   Order ID        51290 non-null  object \n",
      " 2   Order Date      51290 non-null  object \n",
      " 3   Ship Date       51290 non-null  object \n",
      " 4   Ship Mode       51290 non-null  object \n",
      " 5   Customer ID     51290 non-null  object \n",
      " 6   Customer Name   51290 non-null  object \n",
      " 7   Segment         51290 non-null  object \n",
      " 8   City            51290 non-null  object \n",
      " 9   State           51290 non-null  object \n",
      " 10  Country         51290 non-null  object \n",
      " 11  Postal Code     9994 non-null   float64\n",
      " 12  Market          51290 non-null  object \n",
      " 13  Region          51290 non-null  object \n",
      " 14  Product ID      51290 non-null  object \n",
      " 15  Category        51290 non-null  object \n",
      " 16  Sub-Category    51290 non-null  object \n",
      " 17  Product Name    51290 non-null  object \n",
      " 18  Sales           51290 non-null  float64\n",
      " 19  Quantity        51290 non-null  int64  \n",
      " 20  Discount        51290 non-null  float64\n",
      " 21  Profit          51290 non-null  float64\n",
      " 22  Shipping Cost   51290 non-null  float64\n",
      " 23  Order Priority  51290 non-null  object \n",
      "dtypes: float64(5), int64(2), object(17)\n",
      "memory usage: 9.4+ MB\n"
     ]
    }
   ],
   "source": [
    "data.info()"
   ]
  },
  {
   "cell_type": "code",
   "execution_count": 100,
   "metadata": {},
   "outputs": [
    {
     "data": {
      "text/plain": [
       "(51290, 24)"
      ]
     },
     "execution_count": 100,
     "metadata": {},
     "output_type": "execute_result"
    }
   ],
   "source": [
    "data.shape"
   ]
  },
  {
   "cell_type": "code",
   "execution_count": 101,
   "metadata": {},
   "outputs": [
    {
     "data": {
      "text/plain": [
       "Sub-Category\n",
       "Binders        6152\n",
       "Storage        5059\n",
       "Art            4883\n",
       "Paper          3538\n",
       "Chairs         3434\n",
       "Phones         3357\n",
       "Furnishings    3170\n",
       "Accessories    3075\n",
       "Labels         2606\n",
       "Envelopes      2435\n",
       "Supplies       2425\n",
       "Fasteners      2420\n",
       "Bookcases      2411\n",
       "Copiers        2223\n",
       "Appliances     1755\n",
       "Machines       1486\n",
       "Tables          861\n",
       "Name: count, dtype: int64"
      ]
     },
     "execution_count": 101,
     "metadata": {},
     "output_type": "execute_result"
    }
   ],
   "source": [
    "data[\"Sub-Category\"].value_counts()"
   ]
  },
  {
   "cell_type": "code",
   "execution_count": 102,
   "metadata": {},
   "outputs": [
    {
     "data": {
      "text/plain": [
       "Product Name\n",
       "Staples                                                                      227\n",
       "Cardinal Index Tab, Clear                                                     92\n",
       "Eldon File Cart, Single Width                                                 90\n",
       "Rogers File Cart, Single Width                                                84\n",
       "Ibico Index Tab, Clear                                                        83\n",
       "                                                                            ... \n",
       "Okidata B401 Printer                                                           1\n",
       "Snap-A-Way Black Print Carbonless Speed Message, No Reply Area, Duplicate      1\n",
       "Xerox WorkCentre 6505DN Laser Multifunction Printer                            1\n",
       "Barricks Round Table, Rectangular                                              1\n",
       "Multimedia Mailers                                                             1\n",
       "Name: count, Length: 3788, dtype: int64"
      ]
     },
     "execution_count": 102,
     "metadata": {},
     "output_type": "execute_result"
    }
   ],
   "source": [
    "data[\"Product Name\"].value_counts()"
   ]
  },
  {
   "cell_type": "code",
   "execution_count": null,
   "metadata": {},
   "outputs": [],
   "source": []
  },
  {
   "cell_type": "code",
   "execution_count": 103,
   "metadata": {},
   "outputs": [],
   "source": [
    "#Changing int variables to categoricals\n",
    "\n",
    "data[\"Row ID\"]=data[\"Row ID\"].astype(str)\n",
    "data[\"Postal Code\"]=data[\"Postal Code\"].astype(str)"
   ]
  },
  {
   "cell_type": "code",
   "execution_count": 104,
   "metadata": {},
   "outputs": [
    {
     "data": {
      "text/html": [
       "<div>\n",
       "<style scoped>\n",
       "    .dataframe tbody tr th:only-of-type {\n",
       "        vertical-align: middle;\n",
       "    }\n",
       "\n",
       "    .dataframe tbody tr th {\n",
       "        vertical-align: top;\n",
       "    }\n",
       "\n",
       "    .dataframe thead th {\n",
       "        text-align: right;\n",
       "    }\n",
       "</style>\n",
       "<table border=\"1\" class=\"dataframe\">\n",
       "  <thead>\n",
       "    <tr style=\"text-align: right;\">\n",
       "      <th></th>\n",
       "      <th>Discount</th>\n",
       "      <th>count</th>\n",
       "    </tr>\n",
       "  </thead>\n",
       "  <tbody>\n",
       "    <tr>\n",
       "      <th>0</th>\n",
       "      <td>True</td>\n",
       "      <td>51290</td>\n",
       "    </tr>\n",
       "  </tbody>\n",
       "</table>\n",
       "</div>"
      ],
      "text/plain": [
       "   Discount  count\n",
       "0      True  51290"
      ]
     },
     "execution_count": 104,
     "metadata": {},
     "output_type": "execute_result"
    }
   ],
   "source": [
    "(data[\"Discount\"]<=20).value_counts().reset_index()\n",
    "\n",
    "\n"
   ]
  },
  {
   "cell_type": "code",
   "execution_count": 105,
   "metadata": {},
   "outputs": [
    {
     "data": {
      "text/html": [
       "<div>\n",
       "<style scoped>\n",
       "    .dataframe tbody tr th:only-of-type {\n",
       "        vertical-align: middle;\n",
       "    }\n",
       "\n",
       "    .dataframe tbody tr th {\n",
       "        vertical-align: top;\n",
       "    }\n",
       "\n",
       "    .dataframe thead th {\n",
       "        text-align: right;\n",
       "    }\n",
       "</style>\n",
       "<table border=\"1\" class=\"dataframe\">\n",
       "  <thead>\n",
       "    <tr style=\"text-align: right;\">\n",
       "      <th></th>\n",
       "      <th>Discount</th>\n",
       "      <th>count</th>\n",
       "    </tr>\n",
       "  </thead>\n",
       "  <tbody>\n",
       "    <tr>\n",
       "      <th>0</th>\n",
       "      <td>False</td>\n",
       "      <td>51290</td>\n",
       "    </tr>\n",
       "  </tbody>\n",
       "</table>\n",
       "</div>"
      ],
      "text/plain": [
       "   Discount  count\n",
       "0     False  51290"
      ]
     },
     "execution_count": 105,
     "metadata": {},
     "output_type": "execute_result"
    }
   ],
   "source": [
    "(data[\"Discount\"]>=20).value_counts().reset_index()"
   ]
  },
  {
   "cell_type": "code",
   "execution_count": null,
   "metadata": {},
   "outputs": [],
   "source": []
  },
  {
   "cell_type": "code",
   "execution_count": 106,
   "metadata": {
    "scrolled": true
   },
   "outputs": [
    {
     "data": {
      "text/html": [
       "<div>\n",
       "<style scoped>\n",
       "    .dataframe tbody tr th:only-of-type {\n",
       "        vertical-align: middle;\n",
       "    }\n",
       "\n",
       "    .dataframe tbody tr th {\n",
       "        vertical-align: top;\n",
       "    }\n",
       "\n",
       "    .dataframe thead th {\n",
       "        text-align: right;\n",
       "    }\n",
       "</style>\n",
       "<table border=\"1\" class=\"dataframe\">\n",
       "  <thead>\n",
       "    <tr style=\"text-align: right;\">\n",
       "      <th></th>\n",
       "      <th>Sales</th>\n",
       "      <th>Quantity</th>\n",
       "      <th>Discount</th>\n",
       "      <th>Profit</th>\n",
       "      <th>Shipping Cost</th>\n",
       "    </tr>\n",
       "  </thead>\n",
       "  <tbody>\n",
       "    <tr>\n",
       "      <th>count</th>\n",
       "      <td>51290.000000</td>\n",
       "      <td>51290.000000</td>\n",
       "      <td>51290.000000</td>\n",
       "      <td>51290.000000</td>\n",
       "      <td>51290.000000</td>\n",
       "    </tr>\n",
       "    <tr>\n",
       "      <th>mean</th>\n",
       "      <td>246.490581</td>\n",
       "      <td>3.476545</td>\n",
       "      <td>0.142908</td>\n",
       "      <td>28.610982</td>\n",
       "      <td>26.375915</td>\n",
       "    </tr>\n",
       "    <tr>\n",
       "      <th>std</th>\n",
       "      <td>487.565361</td>\n",
       "      <td>2.278766</td>\n",
       "      <td>0.212280</td>\n",
       "      <td>174.340972</td>\n",
       "      <td>57.296804</td>\n",
       "    </tr>\n",
       "    <tr>\n",
       "      <th>min</th>\n",
       "      <td>0.444000</td>\n",
       "      <td>1.000000</td>\n",
       "      <td>0.000000</td>\n",
       "      <td>-6599.978000</td>\n",
       "      <td>0.000000</td>\n",
       "    </tr>\n",
       "    <tr>\n",
       "      <th>25%</th>\n",
       "      <td>30.758625</td>\n",
       "      <td>2.000000</td>\n",
       "      <td>0.000000</td>\n",
       "      <td>0.000000</td>\n",
       "      <td>2.610000</td>\n",
       "    </tr>\n",
       "    <tr>\n",
       "      <th>50%</th>\n",
       "      <td>85.053000</td>\n",
       "      <td>3.000000</td>\n",
       "      <td>0.000000</td>\n",
       "      <td>9.240000</td>\n",
       "      <td>7.790000</td>\n",
       "    </tr>\n",
       "    <tr>\n",
       "      <th>75%</th>\n",
       "      <td>251.053200</td>\n",
       "      <td>5.000000</td>\n",
       "      <td>0.200000</td>\n",
       "      <td>36.810000</td>\n",
       "      <td>24.450000</td>\n",
       "    </tr>\n",
       "    <tr>\n",
       "      <th>max</th>\n",
       "      <td>22638.480000</td>\n",
       "      <td>14.000000</td>\n",
       "      <td>0.850000</td>\n",
       "      <td>8399.976000</td>\n",
       "      <td>933.570000</td>\n",
       "    </tr>\n",
       "  </tbody>\n",
       "</table>\n",
       "</div>"
      ],
      "text/plain": [
       "              Sales      Quantity      Discount        Profit  Shipping Cost\n",
       "count  51290.000000  51290.000000  51290.000000  51290.000000   51290.000000\n",
       "mean     246.490581      3.476545      0.142908     28.610982      26.375915\n",
       "std      487.565361      2.278766      0.212280    174.340972      57.296804\n",
       "min        0.444000      1.000000      0.000000  -6599.978000       0.000000\n",
       "25%       30.758625      2.000000      0.000000      0.000000       2.610000\n",
       "50%       85.053000      3.000000      0.000000      9.240000       7.790000\n",
       "75%      251.053200      5.000000      0.200000     36.810000      24.450000\n",
       "max    22638.480000     14.000000      0.850000   8399.976000     933.570000"
      ]
     },
     "execution_count": 106,
     "metadata": {},
     "output_type": "execute_result"
    }
   ],
   "source": [
    "data.describe(include=np.number)"
   ]
  },
  {
   "cell_type": "code",
   "execution_count": 107,
   "metadata": {
    "scrolled": false
   },
   "outputs": [
    {
     "data": {
      "image/png": "[encoded data removed]",
      "text/plain": [
       "<Figure size 800x600 with 1 Axes>"
      ]
     },
     "metadata": {},
     "output_type": "display_data"
    }
   ],
   "source": [
    "#distribution of sales\n",
    "plt.figure(figsize=(8, 6))\n",
    "\n",
    "sns.histplot(x=data[\"Sales\"], color=\"rebeccapurple\")\n",
    "\n",
    "plt.show()"
   ]
  },
  {
   "cell_type": "code",
   "execution_count": 27,
   "metadata": {},
   "outputs": [
    {
     "data": {
      "text/plain": [
       "<function matplotlib.pyplot.plot(*args, scalex=True, scaley=True, data=None, **kwargs)>"
      ]
     },
     "execution_count": 27,
     "metadata": {},
     "output_type": "execute_result"
    },
    {
     "data": {
      "image/png": "[encoded data removed]",
      "text/plain": [
       "<Figure size 640x480 with 1 Axes>"
      ]
     },
     "metadata": {},
     "output_type": "display_data"
    }
   ],
   "source": [
    "#distribution of Quantity\n",
    "\n",
    "sns.boxplot(x=\"Quantity\", data=data, color=\"Teal\")\n",
    "plt.plot\n"
   ]
  },
  {
   "cell_type": "code",
   "execution_count": 108,
   "metadata": {},
   "outputs": [
    {
     "data": {
      "image/png": "[encoded data removed]",
      "text/plain": [
       "<Figure size 640x480 with 1 Axes>"
      ]
     },
     "metadata": {},
     "output_type": "display_data"
    }
   ],
   "source": [
    "sns.histplot(x=\"Discount\", data=data, color=\"deeppink\")\n",
    "plt.show()"
   ]
  },
  {
   "cell_type": "code",
   "execution_count": 109,
   "metadata": {},
   "outputs": [
    {
     "data": {
      "image/png": "[encoded data removed]",
      "text/plain": [
       "<Figure size 640x480 with 1 Axes>"
      ]
     },
     "metadata": {},
     "output_type": "display_data"
    }
   ],
   "source": [
    "sns.histplot(x=\"Shipping Cost\", data=data, color=\"Lightblue\")\n",
    "plt.show()"
   ]
  },
  {
   "cell_type": "code",
   "execution_count": 110,
   "metadata": {},
   "outputs": [
    {
     "data": {
      "text/html": [
       "<div>\n",
       "<style scoped>\n",
       "    .dataframe tbody tr th:only-of-type {\n",
       "        vertical-align: middle;\n",
       "    }\n",
       "\n",
       "    .dataframe tbody tr th {\n",
       "        vertical-align: top;\n",
       "    }\n",
       "\n",
       "    .dataframe thead th {\n",
       "        text-align: right;\n",
       "    }\n",
       "</style>\n",
       "<table border=\"1\" class=\"dataframe\">\n",
       "  <thead>\n",
       "    <tr style=\"text-align: right;\">\n",
       "      <th></th>\n",
       "      <th>Row ID</th>\n",
       "      <th>Order ID</th>\n",
       "      <th>Order Date</th>\n",
       "      <th>Ship Date</th>\n",
       "      <th>Ship Mode</th>\n",
       "      <th>Customer ID</th>\n",
       "      <th>Customer Name</th>\n",
       "      <th>Segment</th>\n",
       "      <th>City</th>\n",
       "      <th>State</th>\n",
       "      <th>Country</th>\n",
       "      <th>Postal Code</th>\n",
       "      <th>Market</th>\n",
       "      <th>Region</th>\n",
       "      <th>Product ID</th>\n",
       "      <th>Category</th>\n",
       "      <th>Sub-Category</th>\n",
       "      <th>Product Name</th>\n",
       "      <th>Sales</th>\n",
       "      <th>Quantity</th>\n",
       "      <th>Discount</th>\n",
       "      <th>Profit</th>\n",
       "      <th>Shipping Cost</th>\n",
       "      <th>Order Priority</th>\n",
       "      <th>Unit Price</th>\n",
       "    </tr>\n",
       "  </thead>\n",
       "  <tbody>\n",
       "    <tr>\n",
       "      <th>0</th>\n",
       "      <td>42433</td>\n",
       "      <td>AG-2011-2040</td>\n",
       "      <td>1/1/2011</td>\n",
       "      <td>6/1/2011</td>\n",
       "      <td>Standard Class</td>\n",
       "      <td>TB-11280</td>\n",
       "      <td>Toby Braunhardt</td>\n",
       "      <td>Consumer</td>\n",
       "      <td>Constantine</td>\n",
       "      <td>Constantine</td>\n",
       "      <td>Algeria</td>\n",
       "      <td>nan</td>\n",
       "      <td>Africa</td>\n",
       "      <td>Africa</td>\n",
       "      <td>OFF-TEN-10000025</td>\n",
       "      <td>Office Supplies</td>\n",
       "      <td>Storage</td>\n",
       "      <td>Tenex Lockers, Blue</td>\n",
       "      <td>408.3</td>\n",
       "      <td>2</td>\n",
       "      <td>0.0</td>\n",
       "      <td>106.14</td>\n",
       "      <td>35.46</td>\n",
       "      <td>Medium</td>\n",
       "      <td>204.15</td>\n",
       "    </tr>\n",
       "  </tbody>\n",
       "</table>\n",
       "</div>"
      ],
      "text/plain": [
       "  Row ID      Order ID Order Date Ship Date       Ship Mode Customer ID  \\\n",
       "0  42433  AG-2011-2040   1/1/2011  6/1/2011  Standard Class    TB-11280   \n",
       "\n",
       "     Customer Name   Segment         City        State  Country Postal Code  \\\n",
       "0  Toby Braunhardt  Consumer  Constantine  Constantine  Algeria         nan   \n",
       "\n",
       "   Market  Region        Product ID         Category Sub-Category  \\\n",
       "0  Africa  Africa  OFF-TEN-10000025  Office Supplies      Storage   \n",
       "\n",
       "          Product Name  Sales  Quantity  Discount  Profit  Shipping Cost  \\\n",
       "0  Tenex Lockers, Blue  408.3         2       0.0  106.14          35.46   \n",
       "\n",
       "  Order Priority  Unit Price  \n",
       "0         Medium      204.15  "
      ]
     },
     "execution_count": 110,
     "metadata": {},
     "output_type": "execute_result"
    }
   ],
   "source": [
    "data[\"Unit Price\"]=(data[\"Sales\"]/data[\"Quantity\"])\n",
    "\n",
    "data.head(1)\n",
    "\n"
   ]
  },
  {
   "cell_type": "code",
   "execution_count": 111,
   "metadata": {},
   "outputs": [
    {
     "data": {
      "text/plain": [
       "Order Date\n",
       "18-06-2014    135\n",
       "18-11-2014    127\n",
       "3/9/2014      126\n",
       "20-11-2014    118\n",
       "29-12-2014    116\n",
       "             ... \n",
       "7/7/2013        1\n",
       "16-01-2011      1\n",
       "23-09-2012      1\n",
       "21-07-2013      1\n",
       "10/11/2013      1\n",
       "Name: count, Length: 1430, dtype: int64"
      ]
     },
     "execution_count": 111,
     "metadata": {},
     "output_type": "execute_result"
    }
   ],
   "source": [
    "data[\"Order Date\"].value_counts()"
   ]
  },
  {
   "cell_type": "markdown",
   "metadata": {},
   "source": [
    "### Feature Engineering"
   ]
  },
  {
   "cell_type": "code",
   "execution_count": 112,
   "metadata": {},
   "outputs": [],
   "source": [
    "\n",
    "\n",
    "data['Order Date'] = pd.to_datetime(data['Order Date'],dayfirst=True, format=\"mixed\", infer_datetime_format=True)\n",
    "\n",
    "#data[\"Year\"]=data[\"Order Date\"].dt.year"
   ]
  },
  {
   "cell_type": "code",
   "execution_count": 113,
   "metadata": {
    "scrolled": true
   },
   "outputs": [
    {
     "data": {
      "text/plain": [
       "0       2011-01-01\n",
       "1       2011-01-01\n",
       "2       2011-01-01\n",
       "3       2011-01-01\n",
       "4       2011-01-01\n",
       "           ...    \n",
       "51285   2014-12-31\n",
       "51286   2014-12-31\n",
       "51287   2014-12-31\n",
       "51288   2014-12-31\n",
       "51289   2014-12-31\n",
       "Name: Order Date, Length: 51290, dtype: datetime64[ns]"
      ]
     },
     "execution_count": 113,
     "metadata": {},
     "output_type": "execute_result"
    }
   ],
   "source": [
    "data[\"Order Date\"]"
   ]
  },
  {
   "cell_type": "code",
   "execution_count": 114,
   "metadata": {},
   "outputs": [],
   "source": [
    "data[\"Year\"]=data[\"Order Date\"].dt.year"
   ]
  },
  {
   "cell_type": "code",
   "execution_count": 115,
   "metadata": {
    "scrolled": false
   },
   "outputs": [],
   "source": [
    "data[\"Month\"]=data[\"Order Date\"].dt.month"
   ]
  },
  {
   "cell_type": "code",
   "execution_count": 116,
   "metadata": {},
   "outputs": [
    {
     "data": {
      "text/html": [
       "<div>\n",
       "<style scoped>\n",
       "    .dataframe tbody tr th:only-of-type {\n",
       "        vertical-align: middle;\n",
       "    }\n",
       "\n",
       "    .dataframe tbody tr th {\n",
       "        vertical-align: top;\n",
       "    }\n",
       "\n",
       "    .dataframe thead th {\n",
       "        text-align: right;\n",
       "    }\n",
       "</style>\n",
       "<table border=\"1\" class=\"dataframe\">\n",
       "  <thead>\n",
       "    <tr style=\"text-align: right;\">\n",
       "      <th></th>\n",
       "      <th>Row ID</th>\n",
       "      <th>Order ID</th>\n",
       "      <th>Order Date</th>\n",
       "      <th>Ship Date</th>\n",
       "      <th>Ship Mode</th>\n",
       "      <th>Customer ID</th>\n",
       "      <th>Customer Name</th>\n",
       "      <th>Segment</th>\n",
       "      <th>City</th>\n",
       "      <th>State</th>\n",
       "      <th>Country</th>\n",
       "      <th>Postal Code</th>\n",
       "      <th>Market</th>\n",
       "      <th>Region</th>\n",
       "      <th>Product ID</th>\n",
       "      <th>Category</th>\n",
       "      <th>Sub-Category</th>\n",
       "      <th>Product Name</th>\n",
       "      <th>Sales</th>\n",
       "      <th>Quantity</th>\n",
       "      <th>Discount</th>\n",
       "      <th>Profit</th>\n",
       "      <th>Shipping Cost</th>\n",
       "      <th>Order Priority</th>\n",
       "      <th>Unit Price</th>\n",
       "      <th>Year</th>\n",
       "      <th>Month</th>\n",
       "    </tr>\n",
       "  </thead>\n",
       "  <tbody>\n",
       "    <tr>\n",
       "      <th>0</th>\n",
       "      <td>42433</td>\n",
       "      <td>AG-2011-2040</td>\n",
       "      <td>2011-01-01</td>\n",
       "      <td>6/1/2011</td>\n",
       "      <td>Standard Class</td>\n",
       "      <td>TB-11280</td>\n",
       "      <td>Toby Braunhardt</td>\n",
       "      <td>Consumer</td>\n",
       "      <td>Constantine</td>\n",
       "      <td>Constantine</td>\n",
       "      <td>Algeria</td>\n",
       "      <td>nan</td>\n",
       "      <td>Africa</td>\n",
       "      <td>Africa</td>\n",
       "      <td>OFF-TEN-10000025</td>\n",
       "      <td>Office Supplies</td>\n",
       "      <td>Storage</td>\n",
       "      <td>Tenex Lockers, Blue</td>\n",
       "      <td>408.300</td>\n",
       "      <td>2</td>\n",
       "      <td>0.0</td>\n",
       "      <td>106.140</td>\n",
       "      <td>35.46</td>\n",
       "      <td>Medium</td>\n",
       "      <td>204.150</td>\n",
       "      <td>2011</td>\n",
       "      <td>1</td>\n",
       "    </tr>\n",
       "    <tr>\n",
       "      <th>1</th>\n",
       "      <td>22253</td>\n",
       "      <td>IN-2011-47883</td>\n",
       "      <td>2011-01-01</td>\n",
       "      <td>8/1/2011</td>\n",
       "      <td>Standard Class</td>\n",
       "      <td>JH-15985</td>\n",
       "      <td>Joseph Holt</td>\n",
       "      <td>Consumer</td>\n",
       "      <td>Wagga Wagga</td>\n",
       "      <td>New South Wales</td>\n",
       "      <td>Australia</td>\n",
       "      <td>nan</td>\n",
       "      <td>APAC</td>\n",
       "      <td>Oceania</td>\n",
       "      <td>OFF-SU-10000618</td>\n",
       "      <td>Office Supplies</td>\n",
       "      <td>Supplies</td>\n",
       "      <td>Acme Trimmer, High Speed</td>\n",
       "      <td>120.366</td>\n",
       "      <td>3</td>\n",
       "      <td>0.1</td>\n",
       "      <td>36.036</td>\n",
       "      <td>9.72</td>\n",
       "      <td>Medium</td>\n",
       "      <td>40.122</td>\n",
       "      <td>2011</td>\n",
       "      <td>1</td>\n",
       "    </tr>\n",
       "    <tr>\n",
       "      <th>2</th>\n",
       "      <td>48883</td>\n",
       "      <td>HU-2011-1220</td>\n",
       "      <td>2011-01-01</td>\n",
       "      <td>5/1/2011</td>\n",
       "      <td>Second Class</td>\n",
       "      <td>AT-735</td>\n",
       "      <td>Annie Thurman</td>\n",
       "      <td>Consumer</td>\n",
       "      <td>Budapest</td>\n",
       "      <td>Budapest</td>\n",
       "      <td>Hungary</td>\n",
       "      <td>nan</td>\n",
       "      <td>EMEA</td>\n",
       "      <td>EMEA</td>\n",
       "      <td>OFF-TEN-10001585</td>\n",
       "      <td>Office Supplies</td>\n",
       "      <td>Storage</td>\n",
       "      <td>Tenex Box, Single Width</td>\n",
       "      <td>66.120</td>\n",
       "      <td>4</td>\n",
       "      <td>0.0</td>\n",
       "      <td>29.640</td>\n",
       "      <td>8.17</td>\n",
       "      <td>High</td>\n",
       "      <td>16.530</td>\n",
       "      <td>2011</td>\n",
       "      <td>1</td>\n",
       "    </tr>\n",
       "  </tbody>\n",
       "</table>\n",
       "</div>"
      ],
      "text/plain": [
       "  Row ID       Order ID Order Date Ship Date       Ship Mode Customer ID  \\\n",
       "0  42433   AG-2011-2040 2011-01-01  6/1/2011  Standard Class    TB-11280   \n",
       "1  22253  IN-2011-47883 2011-01-01  8/1/2011  Standard Class    JH-15985   \n",
       "2  48883   HU-2011-1220 2011-01-01  5/1/2011    Second Class      AT-735   \n",
       "\n",
       "     Customer Name   Segment         City            State    Country  \\\n",
       "0  Toby Braunhardt  Consumer  Constantine      Constantine    Algeria   \n",
       "1      Joseph Holt  Consumer  Wagga Wagga  New South Wales  Australia   \n",
       "2    Annie Thurman  Consumer     Budapest         Budapest    Hungary   \n",
       "\n",
       "  Postal Code  Market   Region        Product ID         Category  \\\n",
       "0         nan  Africa   Africa  OFF-TEN-10000025  Office Supplies   \n",
       "1         nan    APAC  Oceania   OFF-SU-10000618  Office Supplies   \n",
       "2         nan    EMEA     EMEA  OFF-TEN-10001585  Office Supplies   \n",
       "\n",
       "  Sub-Category              Product Name    Sales  Quantity  Discount  \\\n",
       "0      Storage       Tenex Lockers, Blue  408.300         2       0.0   \n",
       "1     Supplies  Acme Trimmer, High Speed  120.366         3       0.1   \n",
       "2      Storage   Tenex Box, Single Width   66.120         4       0.0   \n",
       "\n",
       "    Profit  Shipping Cost Order Priority  Unit Price  Year  Month  \n",
       "0  106.140          35.46         Medium     204.150  2011      1  \n",
       "1   36.036           9.72         Medium      40.122  2011      1  \n",
       "2   29.640           8.17           High      16.530  2011      1  "
      ]
     },
     "execution_count": 116,
     "metadata": {},
     "output_type": "execute_result"
    }
   ],
   "source": [
    "data.head(3)"
   ]
  },
  {
   "cell_type": "code",
   "execution_count": null,
   "metadata": {},
   "outputs": [],
   "source": []
  },
  {
   "cell_type": "code",
   "execution_count": 117,
   "metadata": {},
   "outputs": [],
   "source": [
    "data['Ship Date'] = pd.to_datetime(data['Ship Date'],dayfirst=True, format=\"mixed\", infer_datetime_format=True)\n",
    "\n",
    "#data[\"Year\"]=data[\"Order Date\"].dt.year"
   ]
  },
  {
   "cell_type": "code",
   "execution_count": 118,
   "metadata": {},
   "outputs": [],
   "source": [
    "data[\"Shipping interval\"]=(data[\"Ship Date\"])-(data[\"Order Date\"])\n",
    "\n"
   ]
  },
  {
   "cell_type": "code",
   "execution_count": 119,
   "metadata": {},
   "outputs": [],
   "source": [
    "data['Shipping interval']=data['Shipping interval'].astype(str)\n",
    "data['Shipping interval']=data['Shipping interval'].str.strip('days')"
   ]
  },
  {
   "cell_type": "code",
   "execution_count": 120,
   "metadata": {},
   "outputs": [
    {
     "data": {
      "text/plain": [
       "0        5\n",
       "1        7\n",
       "2        4\n",
       "3        4\n",
       "4        7\n",
       "        ..\n",
       "51285    4\n",
       "51286    5\n",
       "51287    2\n",
       "51288    6\n",
       "51289    4\n",
       "Name: Shipping interval, Length: 51290, dtype: int32"
      ]
     },
     "execution_count": 120,
     "metadata": {},
     "output_type": "execute_result"
    }
   ],
   "source": [
    "data[\"Shipping interval\"].astype(int)"
   ]
  },
  {
   "cell_type": "code",
   "execution_count": 121,
   "metadata": {},
   "outputs": [],
   "source": [
    "data['Year']=data['Order Date'].dt. strftime('%Y') "
   ]
  },
  {
   "cell_type": "code",
   "execution_count": null,
   "metadata": {},
   "outputs": [],
   "source": []
  },
  {
   "cell_type": "code",
   "execution_count": null,
   "metadata": {},
   "outputs": [],
   "source": []
  },
  {
   "cell_type": "code",
   "execution_count": 122,
   "metadata": {},
   "outputs": [
    {
     "data": {
      "text/html": [
       "<div>\n",
       "<style scoped>\n",
       "    .dataframe tbody tr th:only-of-type {\n",
       "        vertical-align: middle;\n",
       "    }\n",
       "\n",
       "    .dataframe tbody tr th {\n",
       "        vertical-align: top;\n",
       "    }\n",
       "\n",
       "    .dataframe thead th {\n",
       "        text-align: right;\n",
       "    }\n",
       "</style>\n",
       "<table border=\"1\" class=\"dataframe\">\n",
       "  <thead>\n",
       "    <tr style=\"text-align: right;\">\n",
       "      <th></th>\n",
       "      <th>Row ID</th>\n",
       "      <th>Order ID</th>\n",
       "      <th>Order Date</th>\n",
       "      <th>Ship Date</th>\n",
       "      <th>Ship Mode</th>\n",
       "      <th>Customer ID</th>\n",
       "      <th>Customer Name</th>\n",
       "      <th>Segment</th>\n",
       "      <th>City</th>\n",
       "      <th>State</th>\n",
       "      <th>Country</th>\n",
       "      <th>Postal Code</th>\n",
       "      <th>Market</th>\n",
       "      <th>Region</th>\n",
       "      <th>Product ID</th>\n",
       "      <th>Category</th>\n",
       "      <th>Sub-Category</th>\n",
       "      <th>Product Name</th>\n",
       "      <th>Sales</th>\n",
       "      <th>Quantity</th>\n",
       "      <th>Discount</th>\n",
       "      <th>Profit</th>\n",
       "      <th>Shipping Cost</th>\n",
       "      <th>Order Priority</th>\n",
       "      <th>Unit Price</th>\n",
       "      <th>Year</th>\n",
       "      <th>Month</th>\n",
       "      <th>Shipping interval</th>\n",
       "    </tr>\n",
       "  </thead>\n",
       "  <tbody>\n",
       "    <tr>\n",
       "      <th>0</th>\n",
       "      <td>42433</td>\n",
       "      <td>AG-2011-2040</td>\n",
       "      <td>2011-01-01</td>\n",
       "      <td>2011-01-06</td>\n",
       "      <td>Standard Class</td>\n",
       "      <td>TB-11280</td>\n",
       "      <td>Toby Braunhardt</td>\n",
       "      <td>Consumer</td>\n",
       "      <td>Constantine</td>\n",
       "      <td>Constantine</td>\n",
       "      <td>Algeria</td>\n",
       "      <td>nan</td>\n",
       "      <td>Africa</td>\n",
       "      <td>Africa</td>\n",
       "      <td>OFF-TEN-10000025</td>\n",
       "      <td>Office Supplies</td>\n",
       "      <td>Storage</td>\n",
       "      <td>Tenex Lockers, Blue</td>\n",
       "      <td>408.300</td>\n",
       "      <td>2</td>\n",
       "      <td>0.0</td>\n",
       "      <td>106.140</td>\n",
       "      <td>35.46</td>\n",
       "      <td>Medium</td>\n",
       "      <td>204.150</td>\n",
       "      <td>2011</td>\n",
       "      <td>1</td>\n",
       "      <td>5</td>\n",
       "    </tr>\n",
       "    <tr>\n",
       "      <th>1</th>\n",
       "      <td>22253</td>\n",
       "      <td>IN-2011-47883</td>\n",
       "      <td>2011-01-01</td>\n",
       "      <td>2011-01-08</td>\n",
       "      <td>Standard Class</td>\n",
       "      <td>JH-15985</td>\n",
       "      <td>Joseph Holt</td>\n",
       "      <td>Consumer</td>\n",
       "      <td>Wagga Wagga</td>\n",
       "      <td>New South Wales</td>\n",
       "      <td>Australia</td>\n",
       "      <td>nan</td>\n",
       "      <td>APAC</td>\n",
       "      <td>Oceania</td>\n",
       "      <td>OFF-SU-10000618</td>\n",
       "      <td>Office Supplies</td>\n",
       "      <td>Supplies</td>\n",
       "      <td>Acme Trimmer, High Speed</td>\n",
       "      <td>120.366</td>\n",
       "      <td>3</td>\n",
       "      <td>0.1</td>\n",
       "      <td>36.036</td>\n",
       "      <td>9.72</td>\n",
       "      <td>Medium</td>\n",
       "      <td>40.122</td>\n",
       "      <td>2011</td>\n",
       "      <td>1</td>\n",
       "      <td>7</td>\n",
       "    </tr>\n",
       "    <tr>\n",
       "      <th>2</th>\n",
       "      <td>48883</td>\n",
       "      <td>HU-2011-1220</td>\n",
       "      <td>2011-01-01</td>\n",
       "      <td>2011-01-05</td>\n",
       "      <td>Second Class</td>\n",
       "      <td>AT-735</td>\n",
       "      <td>Annie Thurman</td>\n",
       "      <td>Consumer</td>\n",
       "      <td>Budapest</td>\n",
       "      <td>Budapest</td>\n",
       "      <td>Hungary</td>\n",
       "      <td>nan</td>\n",
       "      <td>EMEA</td>\n",
       "      <td>EMEA</td>\n",
       "      <td>OFF-TEN-10001585</td>\n",
       "      <td>Office Supplies</td>\n",
       "      <td>Storage</td>\n",
       "      <td>Tenex Box, Single Width</td>\n",
       "      <td>66.120</td>\n",
       "      <td>4</td>\n",
       "      <td>0.0</td>\n",
       "      <td>29.640</td>\n",
       "      <td>8.17</td>\n",
       "      <td>High</td>\n",
       "      <td>16.530</td>\n",
       "      <td>2011</td>\n",
       "      <td>1</td>\n",
       "      <td>4</td>\n",
       "    </tr>\n",
       "  </tbody>\n",
       "</table>\n",
       "</div>"
      ],
      "text/plain": [
       "  Row ID       Order ID Order Date  Ship Date       Ship Mode Customer ID  \\\n",
       "0  42433   AG-2011-2040 2011-01-01 2011-01-06  Standard Class    TB-11280   \n",
       "1  22253  IN-2011-47883 2011-01-01 2011-01-08  Standard Class    JH-15985   \n",
       "2  48883   HU-2011-1220 2011-01-01 2011-01-05    Second Class      AT-735   \n",
       "\n",
       "     Customer Name   Segment         City            State    Country  \\\n",
       "0  Toby Braunhardt  Consumer  Constantine      Constantine    Algeria   \n",
       "1      Joseph Holt  Consumer  Wagga Wagga  New South Wales  Australia   \n",
       "2    Annie Thurman  Consumer     Budapest         Budapest    Hungary   \n",
       "\n",
       "  Postal Code  Market   Region        Product ID         Category  \\\n",
       "0         nan  Africa   Africa  OFF-TEN-10000025  Office Supplies   \n",
       "1         nan    APAC  Oceania   OFF-SU-10000618  Office Supplies   \n",
       "2         nan    EMEA     EMEA  OFF-TEN-10001585  Office Supplies   \n",
       "\n",
       "  Sub-Category              Product Name    Sales  Quantity  Discount  \\\n",
       "0      Storage       Tenex Lockers, Blue  408.300         2       0.0   \n",
       "1     Supplies  Acme Trimmer, High Speed  120.366         3       0.1   \n",
       "2      Storage   Tenex Box, Single Width   66.120         4       0.0   \n",
       "\n",
       "    Profit  Shipping Cost Order Priority  Unit Price  Year  Month  \\\n",
       "0  106.140          35.46         Medium     204.150  2011      1   \n",
       "1   36.036           9.72         Medium      40.122  2011      1   \n",
       "2   29.640           8.17           High      16.530  2011      1   \n",
       "\n",
       "  Shipping interval  \n",
       "0                5   \n",
       "1                7   \n",
       "2                4   "
      ]
     },
     "execution_count": 122,
     "metadata": {},
     "output_type": "execute_result"
    }
   ],
   "source": [
    "data.head(3)"
   ]
  },
  {
   "cell_type": "markdown",
   "metadata": {},
   "source": [
    "### EXPLORATORY ANALYSIS"
   ]
  },
  {
   "cell_type": "markdown",
   "metadata": {},
   "source": [
    "### Sales and profit per market"
   ]
  },
  {
   "cell_type": "code",
   "execution_count": 55,
   "metadata": {},
   "outputs": [
    {
     "data": {
      "image/png": "[encoded data removed]",
      "text/plain": [
       "<Figure size 1000x600 with 1 Axes>"
      ]
     },
     "metadata": {},
     "output_type": "display_data"
    },
    {
     "data": {
      "text/html": [
       "<div>\n",
       "<style scoped>\n",
       "    .dataframe tbody tr th:only-of-type {\n",
       "        vertical-align: middle;\n",
       "    }\n",
       "\n",
       "    .dataframe tbody tr th {\n",
       "        vertical-align: top;\n",
       "    }\n",
       "\n",
       "    .dataframe thead th {\n",
       "        text-align: right;\n",
       "    }\n",
       "</style>\n",
       "<table border=\"1\" class=\"dataframe\">\n",
       "  <thead>\n",
       "    <tr style=\"text-align: right;\">\n",
       "      <th></th>\n",
       "      <th>Profit</th>\n",
       "      <th>Sales</th>\n",
       "    </tr>\n",
       "    <tr>\n",
       "      <th>Market</th>\n",
       "      <th></th>\n",
       "      <th></th>\n",
       "    </tr>\n",
       "  </thead>\n",
       "  <tbody>\n",
       "    <tr>\n",
       "      <th>Canada</th>\n",
       "      <td>46.4</td>\n",
       "      <td>174.3</td>\n",
       "    </tr>\n",
       "    <tr>\n",
       "      <th>APAC</th>\n",
       "      <td>39.6</td>\n",
       "      <td>325.9</td>\n",
       "    </tr>\n",
       "    <tr>\n",
       "      <th>EU</th>\n",
       "      <td>37.3</td>\n",
       "      <td>293.8</td>\n",
       "    </tr>\n",
       "    <tr>\n",
       "      <th>US</th>\n",
       "      <td>28.7</td>\n",
       "      <td>229.9</td>\n",
       "    </tr>\n",
       "    <tr>\n",
       "      <th>LATAM</th>\n",
       "      <td>21.5</td>\n",
       "      <td>210.3</td>\n",
       "    </tr>\n",
       "    <tr>\n",
       "      <th>Africa</th>\n",
       "      <td>19.4</td>\n",
       "      <td>170.9</td>\n",
       "    </tr>\n",
       "    <tr>\n",
       "      <th>EMEA</th>\n",
       "      <td>8.7</td>\n",
       "      <td>160.3</td>\n",
       "    </tr>\n",
       "  </tbody>\n",
       "</table>\n",
       "</div>"
      ],
      "text/plain": [
       "        Profit  Sales\n",
       "Market               \n",
       "Canada    46.4  174.3\n",
       "APAC      39.6  325.9\n",
       "EU        37.3  293.8\n",
       "US        28.7  229.9\n",
       "LATAM     21.5  210.3\n",
       "Africa    19.4  170.9\n",
       "EMEA       8.7  160.3"
      ]
     },
     "execution_count": 55,
     "metadata": {},
     "output_type": "execute_result"
    }
   ],
   "source": [
    "# Sales and profit per market\n",
    "groupedmarket_mean=data.groupby(\"Market\")[[\"Profit\", \"Sales\"]].mean().round(1).sort_values(by=\"Profit\",ascending=False)\n",
    "\n",
    "plt.figure(figsize=(10, 6))\n",
    "sns.barplot(x=groupedmarket_mean.index, y=groupedmarket_mean[\"Profit\"], color=\"maroon\", label=\"Profit\")\n",
    "sns.barplot(x=groupedmarket_mean.index, y=groupedmarket_mean[\"Sales\"], color=\"pink\", alpha=0.7, label=\"Sales\")\n",
    "plt.title(\"Mean Sales and Profit per Market\")\n",
    "plt.xlabel(\"Market\")\n",
    "plt.ylabel(\"Mean Value\")\n",
    "plt.legend()\n",
    "plt.xticks(rotation=45)\n",
    "plt.show()\n",
    "groupedmarket_mean"
   ]
  },
  {
   "cell_type": "markdown",
   "metadata": {},
   "source": [
    "Canada has the highest mean Profit among all markets, followed by Market APAC and EU.\n",
    "Despite Canada having the highest mean Profit, its mean Sales are relatively lower compared to APAC and EU. APAC had the highest sales"
   ]
  },
  {
   "cell_type": "code",
   "execution_count": null,
   "metadata": {},
   "outputs": [],
   "source": []
  },
  {
   "cell_type": "markdown",
   "metadata": {},
   "source": [
    "### The most profitable Market"
   ]
  },
  {
   "cell_type": "code",
   "execution_count": 124,
   "metadata": {},
   "outputs": [
    {
     "data": {
      "text/html": [
       "<div>\n",
       "<style scoped>\n",
       "    .dataframe tbody tr th:only-of-type {\n",
       "        vertical-align: middle;\n",
       "    }\n",
       "\n",
       "    .dataframe tbody tr th {\n",
       "        vertical-align: top;\n",
       "    }\n",
       "\n",
       "    .dataframe thead th {\n",
       "        text-align: right;\n",
       "    }\n",
       "</style>\n",
       "<table border=\"1\" class=\"dataframe\">\n",
       "  <thead>\n",
       "    <tr style=\"text-align: right;\">\n",
       "      <th></th>\n",
       "      <th>Profit</th>\n",
       "      <th>Sales</th>\n",
       "    </tr>\n",
       "    <tr>\n",
       "      <th>Market</th>\n",
       "      <th></th>\n",
       "      <th></th>\n",
       "    </tr>\n",
       "  </thead>\n",
       "  <tbody>\n",
       "    <tr>\n",
       "      <th>Canada</th>\n",
       "      <td>46.4</td>\n",
       "      <td>174.3</td>\n",
       "    </tr>\n",
       "  </tbody>\n",
       "</table>\n",
       "</div>"
      ],
      "text/plain": [
       "        Profit  Sales\n",
       "Market               \n",
       "Canada    46.4  174.3"
      ]
     },
     "execution_count": 124,
     "metadata": {},
     "output_type": "execute_result"
    }
   ],
   "source": [
    "#The most profitable Market\n",
    "\n",
    "groupedmarket_mean[groupedmarket_mean[\"Profit\"]==groupedmarket_mean[\"Profit\"].max()]"
   ]
  },
  {
   "cell_type": "code",
   "execution_count": null,
   "metadata": {},
   "outputs": [],
   "source": []
  },
  {
   "cell_type": "code",
   "execution_count": 125,
   "metadata": {},
   "outputs": [
    {
     "data": {
      "text/html": [
       "<div>\n",
       "<style scoped>\n",
       "    .dataframe tbody tr th:only-of-type {\n",
       "        vertical-align: middle;\n",
       "    }\n",
       "\n",
       "    .dataframe tbody tr th {\n",
       "        vertical-align: top;\n",
       "    }\n",
       "\n",
       "    .dataframe thead th {\n",
       "        text-align: right;\n",
       "    }\n",
       "</style>\n",
       "<table border=\"1\" class=\"dataframe\">\n",
       "  <thead>\n",
       "    <tr style=\"text-align: right;\">\n",
       "      <th></th>\n",
       "      <th>Market</th>\n",
       "      <th>Product Name</th>\n",
       "      <th>Sales</th>\n",
       "      <th>Profit</th>\n",
       "      <th>Discount</th>\n",
       "    </tr>\n",
       "  </thead>\n",
       "  <tbody>\n",
       "    <tr>\n",
       "      <th>1</th>\n",
       "      <td>APAC</td>\n",
       "      <td>Acme Trimmer, High Speed</td>\n",
       "      <td>120.366</td>\n",
       "      <td>36.036</td>\n",
       "      <td>0.1</td>\n",
       "    </tr>\n",
       "    <tr>\n",
       "      <th>4</th>\n",
       "      <td>APAC</td>\n",
       "      <td>Eldon Light Bulb, Duo Pack</td>\n",
       "      <td>113.670</td>\n",
       "      <td>37.770</td>\n",
       "      <td>0.1</td>\n",
       "    </tr>\n",
       "    <tr>\n",
       "      <th>5</th>\n",
       "      <td>APAC</td>\n",
       "      <td>Eaton Computer Printout Paper, 8.5 x 11</td>\n",
       "      <td>55.242</td>\n",
       "      <td>15.342</td>\n",
       "      <td>0.1</td>\n",
       "    </tr>\n",
       "    <tr>\n",
       "      <th>31</th>\n",
       "      <td>APAC</td>\n",
       "      <td>Panasonic Receipt Printer, White</td>\n",
       "      <td>214.758</td>\n",
       "      <td>7.158</td>\n",
       "      <td>0.1</td>\n",
       "    </tr>\n",
       "    <tr>\n",
       "      <th>46</th>\n",
       "      <td>APAC</td>\n",
       "      <td>Cisco Signal Booster, Full Size</td>\n",
       "      <td>91.872</td>\n",
       "      <td>-45.948</td>\n",
       "      <td>0.4</td>\n",
       "    </tr>\n",
       "    <tr>\n",
       "      <th>...</th>\n",
       "      <td>...</td>\n",
       "      <td>...</td>\n",
       "      <td>...</td>\n",
       "      <td>...</td>\n",
       "      <td>...</td>\n",
       "    </tr>\n",
       "    <tr>\n",
       "      <th>51139</th>\n",
       "      <td>APAC</td>\n",
       "      <td>Advantus Staples, Metal</td>\n",
       "      <td>65.880</td>\n",
       "      <td>7.740</td>\n",
       "      <td>0.0</td>\n",
       "    </tr>\n",
       "    <tr>\n",
       "      <th>51178</th>\n",
       "      <td>APAC</td>\n",
       "      <td>Safco Library with Doors, Mobile</td>\n",
       "      <td>706.158</td>\n",
       "      <td>156.918</td>\n",
       "      <td>0.1</td>\n",
       "    </tr>\n",
       "    <tr>\n",
       "      <th>51191</th>\n",
       "      <td>APAC</td>\n",
       "      <td>Eldon Shelving, Wire Frame</td>\n",
       "      <td>170.964</td>\n",
       "      <td>-18.996</td>\n",
       "      <td>0.1</td>\n",
       "    </tr>\n",
       "    <tr>\n",
       "      <th>51197</th>\n",
       "      <td>APAC</td>\n",
       "      <td>Dania 3-Shelf Cabinet, Pine</td>\n",
       "      <td>171.360</td>\n",
       "      <td>-17.160</td>\n",
       "      <td>0.4</td>\n",
       "    </tr>\n",
       "    <tr>\n",
       "      <th>51205</th>\n",
       "      <td>APAC</td>\n",
       "      <td>Motorola Signal Booster, VoIP</td>\n",
       "      <td>85.932</td>\n",
       "      <td>11.442</td>\n",
       "      <td>0.4</td>\n",
       "    </tr>\n",
       "  </tbody>\n",
       "</table>\n",
       "<p>3487 rows × 5 columns</p>\n",
       "</div>"
      ],
      "text/plain": [
       "      Market                             Product Name    Sales   Profit  \\\n",
       "1       APAC                 Acme Trimmer, High Speed  120.366   36.036   \n",
       "4       APAC               Eldon Light Bulb, Duo Pack  113.670   37.770   \n",
       "5       APAC  Eaton Computer Printout Paper, 8.5 x 11   55.242   15.342   \n",
       "31      APAC         Panasonic Receipt Printer, White  214.758    7.158   \n",
       "46      APAC          Cisco Signal Booster, Full Size   91.872  -45.948   \n",
       "...      ...                                      ...      ...      ...   \n",
       "51139   APAC                  Advantus Staples, Metal   65.880    7.740   \n",
       "51178   APAC         Safco Library with Doors, Mobile  706.158  156.918   \n",
       "51191   APAC               Eldon Shelving, Wire Frame  170.964  -18.996   \n",
       "51197   APAC              Dania 3-Shelf Cabinet, Pine  171.360  -17.160   \n",
       "51205   APAC            Motorola Signal Booster, VoIP   85.932   11.442   \n",
       "\n",
       "       Discount  \n",
       "1           0.1  \n",
       "4           0.1  \n",
       "5           0.1  \n",
       "31          0.1  \n",
       "46          0.4  \n",
       "...         ...  \n",
       "51139       0.0  \n",
       "51178       0.1  \n",
       "51191       0.1  \n",
       "51197       0.4  \n",
       "51205       0.4  \n",
       "\n",
       "[3487 rows x 5 columns]"
      ]
     },
     "execution_count": 125,
     "metadata": {},
     "output_type": "execute_result"
    }
   ],
   "source": [
    "data[data[\"Region\"]==\"Oceania\"][[\"Market\",\"Product Name\",\"Sales\",\"Profit\", \"Discount\"]]"
   ]
  },
  {
   "cell_type": "markdown",
   "metadata": {},
   "source": [
    "### Month the company recorded more sales"
   ]
  },
  {
   "cell_type": "code",
   "execution_count": 126,
   "metadata": {},
   "outputs": [],
   "source": [
    "month_mapping = {\n",
    "    1: 'January',\n",
    "    2: 'February',\n",
    "    3: 'March',\n",
    "    4: 'April',\n",
    "    5: 'May',\n",
    "    6: 'June',\n",
    "    7: 'July',\n",
    "    8: 'August',\n",
    "    9: 'September',\n",
    "    10: 'October',\n",
    "    11: 'November',\n",
    "    12: 'December'\n",
    "}\n",
    "\n",
    "data['Month'] = data['Month'].map(month_mapping)\n",
    "data['Month'] = data['Month'].astype('category')\n"
   ]
  },
  {
   "cell_type": "code",
   "execution_count": null,
   "metadata": {},
   "outputs": [],
   "source": []
  },
  {
   "cell_type": "code",
   "execution_count": 127,
   "metadata": {},
   "outputs": [
    {
     "data": {
      "image/png": "[encoded data removed]",
      "text/plain": [
       "<Figure size 1000x600 with 1 Axes>"
      ]
     },
     "metadata": {},
     "output_type": "display_data"
    },
    {
     "data": {
      "text/html": [
       "<div>\n",
       "<style scoped>\n",
       "    .dataframe tbody tr th:only-of-type {\n",
       "        vertical-align: middle;\n",
       "    }\n",
       "\n",
       "    .dataframe tbody tr th {\n",
       "        vertical-align: top;\n",
       "    }\n",
       "\n",
       "    .dataframe thead th {\n",
       "        text-align: right;\n",
       "    }\n",
       "</style>\n",
       "<table border=\"1\" class=\"dataframe\">\n",
       "  <thead>\n",
       "    <tr style=\"text-align: right;\">\n",
       "      <th></th>\n",
       "      <th>Sales</th>\n",
       "    </tr>\n",
       "    <tr>\n",
       "      <th>Month</th>\n",
       "      <th></th>\n",
       "    </tr>\n",
       "  </thead>\n",
       "  <tbody>\n",
       "    <tr>\n",
       "      <th>October</th>\n",
       "      <td>260.174696</td>\n",
       "    </tr>\n",
       "  </tbody>\n",
       "</table>\n",
       "</div>"
      ],
      "text/plain": [
       "              Sales\n",
       "Month              \n",
       "October  260.174696"
      ]
     },
     "execution_count": 127,
     "metadata": {},
     "output_type": "execute_result"
    }
   ],
   "source": [
    "months=data.groupby(\"Month\")[[\"Sales\"]].mean().sort_values(by=\"Sales\")\n",
    "months[months[\"Sales\"]==months[\"Sales\"].max()]\n",
    "\n",
    "\n",
    "plt.figure(figsize=(10, 6))\n",
    "plt.bar(months.index, months[\"Sales\"], color='skyblue')\n",
    "plt.xlabel('Month')\n",
    "plt.ylabel('Mean Sales')\n",
    "plt.title('Mean Sales for Each Month')\n",
    "plt.xticks(rotation=45)\n",
    "plt.grid(axis='y', linestyle='--', alpha=0.7)\n",
    "\n",
    "# Show plot\n",
    "plt.tight_layout()\n",
    "plt.show()\n",
    "\n",
    "months[months[\"Sales\"]==months[\"Sales\"].max()]"
   ]
  },
  {
   "cell_type": "markdown",
   "metadata": {},
   "source": [
    "### Observation\n",
    "\n",
    "The most profitable month is October with a high score of 260"
   ]
  },
  {
   "cell_type": "code",
   "execution_count": null,
   "metadata": {},
   "outputs": [],
   "source": []
  },
  {
   "cell_type": "code",
   "execution_count": null,
   "metadata": {},
   "outputs": [],
   "source": []
  },
  {
   "cell_type": "code",
   "execution_count": null,
   "metadata": {},
   "outputs": [],
   "source": []
  },
  {
   "cell_type": "markdown",
   "metadata": {},
   "source": [
    "### Checking the relationship between Shipping cost and Sales"
   ]
  },
  {
   "cell_type": "code",
   "execution_count": 128,
   "metadata": {
    "scrolled": false
   },
   "outputs": [
    {
     "data": {
      "image/png": "[encoded data removed]",
      "text/plain": [
       "<Figure size 640x480 with 1 Axes>"
      ]
     },
     "metadata": {},
     "output_type": "display_data"
    }
   ],
   "source": [
    "#Shipping cost and sales. is there a relationship\n",
    "\n",
    "# Scatter plot of Shipping Cost versus Sales\n",
    "sns.scatterplot(x=\"Shipping Cost\", y=\"Sales\", data=data, color=\"teal\")\n",
    "plt.title('Scatter Plot of Shipping Cost vs Sales')\n",
    "plt.xlabel('Shipping Cost')\n",
    "plt.ylabel('Sales')\n",
    "\n",
    "\n",
    "plt.show()"
   ]
  },
  {
   "cell_type": "code",
   "execution_count": 129,
   "metadata": {},
   "outputs": [
    {
     "name": "stdout",
     "output_type": "stream",
     "text": [
      "Correlation between shipping cost and sales: {0.7680728376889517}\n"
     ]
    }
   ],
   "source": [
    "# Simple Regression to find relationship between the Shipping cost and Sales\n",
    "\n",
    "correlation = data['Shipping Cost'].corr(data['Sales'])\n",
    "\n",
    "\n",
    "print(\"Correlation between shipping cost and sales:\",{correlation})"
   ]
  },
  {
   "cell_type": "markdown",
   "metadata": {},
   "source": [
    "### Observation:\n",
    "From the scatter plot, we can observe that there doesn't seem to be a strong linear relationship between the shipping cost and sales. While there are some points where higher shipping costs are associated with higher sales, there are also instances where higher shipping costs are not correlated with higher sales. "
   ]
  },
  {
   "cell_type": "markdown",
   "metadata": {},
   "source": [
    "### The Dominant Product Category in each Market"
   ]
  },
  {
   "cell_type": "code",
   "execution_count": null,
   "metadata": {},
   "outputs": [],
   "source": []
  },
  {
   "cell_type": "code",
   "execution_count": 100,
   "metadata": {},
   "outputs": [
    {
     "data": {
      "text/plain": [
       "Row ID                        object\n",
       "Order ID                      object\n",
       "Order Date            datetime64[ns]\n",
       "Ship Date             datetime64[ns]\n",
       "Ship Mode                     object\n",
       "Customer ID                   object\n",
       "Customer Name                 object\n",
       "Segment                       object\n",
       "City                          object\n",
       "State                         object\n",
       "Country                       object\n",
       "Postal Code                   object\n",
       "Market                        object\n",
       "Region                        object\n",
       "Product ID                    object\n",
       "Category                      object\n",
       "Sub-Category                  object\n",
       "Product Name                  object\n",
       "Sales                        float64\n",
       "Quantity                       int64\n",
       "Discount                     float64\n",
       "Profit                       float64\n",
       "Shipping Cost                float64\n",
       "Order Priority                object\n",
       "Unit Price                   float64\n",
       "Year                           int32\n",
       "Month                          int32\n",
       "Shipping interval    timedelta64[ns]\n",
       "dtype: object"
      ]
     },
     "execution_count": 100,
     "metadata": {},
     "output_type": "execute_result"
    }
   ],
   "source": [
    "data.dtypes"
   ]
  },
  {
   "cell_type": "code",
   "execution_count": 311,
   "metadata": {
    "scrolled": false
   },
   "outputs": [
    {
     "data": {
      "text/html": [
       "<div>\n",
       "<style scoped>\n",
       "    .dataframe tbody tr th:only-of-type {\n",
       "        vertical-align: middle;\n",
       "    }\n",
       "\n",
       "    .dataframe tbody tr th {\n",
       "        vertical-align: top;\n",
       "    }\n",
       "\n",
       "    .dataframe thead th {\n",
       "        text-align: right;\n",
       "    }\n",
       "</style>\n",
       "<table border=\"1\" class=\"dataframe\">\n",
       "  <thead>\n",
       "    <tr style=\"text-align: right;\">\n",
       "      <th></th>\n",
       "      <th></th>\n",
       "      <th>Category</th>\n",
       "      <th>Sub-Category</th>\n",
       "    </tr>\n",
       "    <tr>\n",
       "      <th>Market</th>\n",
       "      <th></th>\n",
       "      <th></th>\n",
       "      <th></th>\n",
       "    </tr>\n",
       "  </thead>\n",
       "  <tbody>\n",
       "    <tr>\n",
       "      <th>APAC</th>\n",
       "      <th>0</th>\n",
       "      <td>Office Supplies</td>\n",
       "      <td>Chairs</td>\n",
       "    </tr>\n",
       "    <tr>\n",
       "      <th>Africa</th>\n",
       "      <th>0</th>\n",
       "      <td>Office Supplies</td>\n",
       "      <td>Art</td>\n",
       "    </tr>\n",
       "    <tr>\n",
       "      <th rowspan=\"2\" valign=\"top\">Canada</th>\n",
       "      <th>0</th>\n",
       "      <td>Office Supplies</td>\n",
       "      <td>Art</td>\n",
       "    </tr>\n",
       "    <tr>\n",
       "      <th>1</th>\n",
       "      <td>NaN</td>\n",
       "      <td>Binders</td>\n",
       "    </tr>\n",
       "    <tr>\n",
       "      <th>EMEA</th>\n",
       "      <th>0</th>\n",
       "      <td>Office Supplies</td>\n",
       "      <td>Art</td>\n",
       "    </tr>\n",
       "    <tr>\n",
       "      <th>EU</th>\n",
       "      <th>0</th>\n",
       "      <td>Office Supplies</td>\n",
       "      <td>Art</td>\n",
       "    </tr>\n",
       "    <tr>\n",
       "      <th>LATAM</th>\n",
       "      <th>0</th>\n",
       "      <td>Office Supplies</td>\n",
       "      <td>Binders</td>\n",
       "    </tr>\n",
       "    <tr>\n",
       "      <th>US</th>\n",
       "      <th>0</th>\n",
       "      <td>Office Supplies</td>\n",
       "      <td>Binders</td>\n",
       "    </tr>\n",
       "  </tbody>\n",
       "</table>\n",
       "</div>"
      ],
      "text/plain": [
       "                 Category Sub-Category\n",
       "Market                                \n",
       "APAC   0  Office Supplies       Chairs\n",
       "Africa 0  Office Supplies          Art\n",
       "Canada 0  Office Supplies          Art\n",
       "       1              NaN      Binders\n",
       "EMEA   0  Office Supplies          Art\n",
       "EU     0  Office Supplies          Art\n",
       "LATAM  0  Office Supplies      Binders\n",
       "US     0  Office Supplies      Binders"
      ]
     },
     "execution_count": 311,
     "metadata": {},
     "output_type": "execute_result"
    }
   ],
   "source": [
    "Dominant=data.groupby(\"Market\")[[\"Category\", \"Sub-Category\"]].apply(lambda x: x.mode())\n",
    "\n",
    "Dominant\n",
    "# data.duplicated(subset=[\"Market\", \"Category\"])\n",
    "# counts.groupby('Market').max()"
   ]
  },
  {
   "cell_type": "code",
   "execution_count": null,
   "metadata": {},
   "outputs": [],
   "source": []
  },
  {
   "cell_type": "code",
   "execution_count": 138,
   "metadata": {},
   "outputs": [
    {
     "data": {
      "image/png": "[encoded data removed]",
      "text/plain": [
       "<Figure size 1000x600 with 1 Axes>"
      ]
     },
     "metadata": {},
     "output_type": "display_data"
    }
   ],
   "source": [
    "custom_palette = sns.color_palette(\"RdPu\")\n",
    "\n",
    "# Plot the count plot\n",
    "plt.figure(figsize=(10, 6))\n",
    "sns.countplot(data=data, x='Market', hue=\"Category\", palette=custom_palette)\n",
    "plt.title('Most Occurring Product Category in Each Market', fontdict={'fontsize': 14, 'fontweight': 'bold'})\n",
    "plt.xlabel('Market',fontdict={'fontsize': 14,})\n",
    "plt.ylabel('Frequency',fontdict={'fontsize': 14})\n",
    "plt.xticks(rotation=45)\n",
    "plt.legend(title='Most Occurring Category', title_fontsize='10', loc=\"upper right\")\n",
    "plt.show()"
   ]
  },
  {
   "cell_type": "markdown",
   "metadata": {},
   "source": [
    "## Observation\n",
    "* The Dominant Product Category in each Market is office supplies with a Art being the dominant in that category\n"
   ]
  },
  {
   "cell_type": "code",
   "execution_count": null,
   "metadata": {},
   "outputs": [],
   "source": []
  },
  {
   "cell_type": "code",
   "execution_count": null,
   "metadata": {},
   "outputs": [],
   "source": []
  },
  {
   "cell_type": "markdown",
   "metadata": {},
   "source": [
    "### City with most orders by given category"
   ]
  },
  {
   "cell_type": "code",
   "execution_count": 145,
   "metadata": {},
   "outputs": [
    {
     "name": "stdout",
     "output_type": "stream",
     "text": [
      "City with the most orders: New York City\n",
      "Highest ordered category in the city: Office Supplies\n",
      "City with the least orders: Aalen\n",
      "Least ordered category in the city: Furniture\n"
     ]
    }
   ],
   "source": [
    "\n",
    "# Grouping the data by \"City\" and counting the number of unique \"Order ID\" for each city\n",
    "city_order_counts = data.groupby(\"City\")[\"Order ID\"].nunique()\n",
    "\n",
    "# Finding the city with the highest number of orders\n",
    "city_with_most_orders = city_order_counts.idxmax()\n",
    "\n",
    "# Filtering the data for the city with the most orders\n",
    "city_data = data[data[\"City\"] == city_with_most_orders]\n",
    "\n",
    "# Grouping the filtered data by \"Category\" and counting the number of occurrences of each category\n",
    "category_counts = city_data[\"Category\"].value_counts()\n",
    "\n",
    "# Finding the highest ordered category\n",
    "highest_ordered_category = category_counts.idxmax()\n",
    "\n",
    "print(\"City with the most orders:\", city_with_most_orders)\n",
    "print(\"Highest ordered category in the city:\", highest_ordered_category)\n",
    "\n",
    "\n",
    "\n",
    "city_order_counts = data.groupby(\"City\")[\"Order ID\"].nunique()\n",
    "\n",
    "# Finding the city with the least number of orders\n",
    "city_with_least_orders = city_order_counts.idxmin()\n",
    "\n",
    "# Filtering the data for the city with the least orders\n",
    "city_data = data[data[\"City\"] == city_with_least_orders]\n",
    "\n",
    "# Grouping the filtered data by \"Category\" and counting the number of occurrences of each category\n",
    "category_counts = city_data[\"Category\"].value_counts()\n",
    "\n",
    "# Finding the least ordered category\n",
    "least_ordered_category = category_counts.idxmin()\n",
    "\n",
    "# Printing the result\n",
    "print(\"City with the least orders:\", city_with_least_orders)\n",
    "print(\"Least ordered category in the city:\", least_ordered_category)"
   ]
  },
  {
   "cell_type": "markdown",
   "metadata": {},
   "source": [
    "### Observation\n",
    "The city with the most order is New York City with a highest ordered category as Office Supplies\n",
    "Meanwhile Aalen had the least orders and the least ordered category is Furniture"
   ]
  },
  {
   "cell_type": "markdown",
   "metadata": {},
   "source": [
    "## Observation\n",
    "\n",
    "* The city with most order by category is Achen. its highest ordered category is Office supplies"
   ]
  },
  {
   "cell_type": "markdown",
   "metadata": {},
   "source": [
    "## Products making losses"
   ]
  },
  {
   "cell_type": "code",
   "execution_count": 307,
   "metadata": {},
   "outputs": [
    {
     "data": {
      "text/html": [
       "<div>\n",
       "<style scoped>\n",
       "    .dataframe tbody tr th:only-of-type {\n",
       "        vertical-align: middle;\n",
       "    }\n",
       "\n",
       "    .dataframe tbody tr th {\n",
       "        vertical-align: top;\n",
       "    }\n",
       "\n",
       "    .dataframe thead th {\n",
       "        text-align: right;\n",
       "    }\n",
       "</style>\n",
       "<table border=\"1\" class=\"dataframe\">\n",
       "  <thead>\n",
       "    <tr style=\"text-align: right;\">\n",
       "      <th></th>\n",
       "      <th>Product Name</th>\n",
       "      <th>Profit</th>\n",
       "    </tr>\n",
       "  </thead>\n",
       "  <tbody>\n",
       "    <tr>\n",
       "      <th>205</th>\n",
       "      <td>Cubify CubeX 3D Printer Double Head Print</td>\n",
       "      <td>-8879.9704</td>\n",
       "    </tr>\n",
       "    <tr>\n",
       "      <th>429</th>\n",
       "      <td>Lexmark MX611dhe Monochrome Laser Printer</td>\n",
       "      <td>-4589.9730</td>\n",
       "    </tr>\n",
       "    <tr>\n",
       "      <th>452</th>\n",
       "      <td>Motorola Smart Phone, Cordless</td>\n",
       "      <td>-4447.0380</td>\n",
       "    </tr>\n",
       "    <tr>\n",
       "      <th>206</th>\n",
       "      <td>Cubify CubeX 3D Printer Triple Head Print</td>\n",
       "      <td>-3839.9904</td>\n",
       "    </tr>\n",
       "    <tr>\n",
       "      <th>118</th>\n",
       "      <td>Bevis Round Table, Adjustable Height</td>\n",
       "      <td>-3649.8940</td>\n",
       "    </tr>\n",
       "  </tbody>\n",
       "</table>\n",
       "</div>"
      ],
      "text/plain": [
       "                                  Product Name     Profit\n",
       "205  Cubify CubeX 3D Printer Double Head Print -8879.9704\n",
       "429  Lexmark MX611dhe Monochrome Laser Printer -4589.9730\n",
       "452             Motorola Smart Phone, Cordless -4447.0380\n",
       "206  Cubify CubeX 3D Printer Triple Head Print -3839.9904\n",
       "118       Bevis Round Table, Adjustable Height -3649.8940"
      ]
     },
     "execution_count": 307,
     "metadata": {},
     "output_type": "execute_result"
    }
   ],
   "source": [
    "filtered_data = data.groupby(\"Product Name\").filter(lambda x: x[\"Profit\"].sum() <= 0)\n",
    "grouped_losses=filtered_data.groupby(\"Product Name\")[\"Profit\"].sum().reset_index().sort_values(by=\"Profit\",ascending=True)\n",
    "\n",
    "grouped_losses.head()"
   ]
  },
  {
   "cell_type": "markdown",
   "metadata": {},
   "source": [
    "## Observation\n",
    "\n",
    "The products making the highest losses are; Cubify CubeX 3D Printer Double Head Print making a loss of -8879.9704 dollars,Lexmark MX611dhe Monochrome Laser Printer making a loss of -4589.9730 dollars ,Motorola Smart Phone, Cordless making a loss of -4447.0380 dollars, Cubify CubeX 3D Printer Triple Head Print making a loss of -3839.990 dollars, Bevis Round Table, Adjustable Heightmaking a loss of -3649.8940 dollars.\n"
   ]
  },
  {
   "cell_type": "code",
   "execution_count": null,
   "metadata": {},
   "outputs": [],
   "source": []
  },
  {
   "cell_type": "markdown",
   "metadata": {},
   "source": [
    "### Segment with the highest profit"
   ]
  },
  {
   "cell_type": "code",
   "execution_count": 305,
   "metadata": {
    "scrolled": true
   },
   "outputs": [
    {
     "data": {
      "text/html": [
       "<div>\n",
       "<style scoped>\n",
       "    .dataframe tbody tr th:only-of-type {\n",
       "        vertical-align: middle;\n",
       "    }\n",
       "\n",
       "    .dataframe tbody tr th {\n",
       "        vertical-align: top;\n",
       "    }\n",
       "\n",
       "    .dataframe thead th {\n",
       "        text-align: right;\n",
       "    }\n",
       "</style>\n",
       "<table border=\"1\" class=\"dataframe\">\n",
       "  <thead>\n",
       "    <tr style=\"text-align: right;\">\n",
       "      <th></th>\n",
       "      <th>Segment</th>\n",
       "      <th>Profit</th>\n",
       "    </tr>\n",
       "  </thead>\n",
       "  <tbody>\n",
       "    <tr>\n",
       "      <th>0</th>\n",
       "      <td>Consumer</td>\n",
       "      <td>749239.78206</td>\n",
       "    </tr>\n",
       "    <tr>\n",
       "      <th>1</th>\n",
       "      <td>Corporate</td>\n",
       "      <td>441208.32866</td>\n",
       "    </tr>\n",
       "    <tr>\n",
       "      <th>2</th>\n",
       "      <td>Home Office</td>\n",
       "      <td>277009.18056</td>\n",
       "    </tr>\n",
       "  </tbody>\n",
       "</table>\n",
       "</div>"
      ],
      "text/plain": [
       "       Segment        Profit\n",
       "0     Consumer  749239.78206\n",
       "1    Corporate  441208.32866\n",
       "2  Home Office  277009.18056"
      ]
     },
     "execution_count": 305,
     "metadata": {},
     "output_type": "execute_result"
    }
   ],
   "source": [
    "filtered_data = data.groupby(\"Segment\").filter(lambda x: x[\"Profit\"].sum() >= 0)\n",
    "filtered_data.groupby(\"Segment\")[\"Profit\"].sum().reset_index().sort_values(by=\"Profit\", ascending=False)\n"
   ]
  },
  {
   "cell_type": "code",
   "execution_count": 306,
   "metadata": {
    "scrolled": false
   },
   "outputs": [
    {
     "data": {
      "image/png": "[encoded data removed]",
      "text/plain": [
       "<Figure size 1000x600 with 1 Axes>"
      ]
     },
     "metadata": {},
     "output_type": "display_data"
    }
   ],
   "source": [
    "\n",
    "plt.figure(figsize=(10, 6))\n",
    "\n",
    "sns.barplot(x=\"Segment\", y=\"Profit\", data=filtered_data, estimator=sum, ci=None, palette=[\"#dda0dd\", \"#ffc0cb\", \"#800080\"])\n",
    "plt.title('Total Profit by Segment',fontdict={'fontsize': 14,\"fontweight\":\"bold\"})\n",
    "plt.xlabel('Segment', fontdict={'fontsize': 14})\n",
    "plt.xticks(rotation=45)\n",
    "plt.ylabel('Total Profit', fontdict={'fontsize': 14})\n",
    "plt.show()"
   ]
  },
  {
   "cell_type": "markdown",
   "metadata": {},
   "source": [
    "## Observation\n",
    "\n",
    "* The consumer segment has the highest profit of $749239.8"
   ]
  },
  {
   "cell_type": "code",
   "execution_count": null,
   "metadata": {},
   "outputs": [],
   "source": []
  },
  {
   "cell_type": "code",
   "execution_count": null,
   "metadata": {},
   "outputs": [],
   "source": []
  },
  {
   "cell_type": "markdown",
   "metadata": {},
   "source": [
    "## The correlation between quantity and profit?"
   ]
  },
  {
   "cell_type": "code",
   "execution_count": 144,
   "metadata": {},
   "outputs": [
    {
     "name": "stdout",
     "output_type": "stream",
     "text": [
      "Correlation between Quantity and Profit: {0.10436502716960332}\n"
     ]
    }
   ],
   "source": [
    "correlation = data['Quantity'].corr(data['Profit'])\n",
    "\n",
    "\n",
    "print(\"Correlation between Quantity and Profit:\",{correlation})"
   ]
  },
  {
   "cell_type": "markdown",
   "metadata": {},
   "source": [
    "## Observation\n",
    "\n",
    "* The Correlation between Quantity and Profit is 0, which is to say that no linear coerelations exist between the quantity and profit. wWhich is to say that when the quantity increases the profit might go up just a little"
   ]
  },
  {
   "cell_type": "markdown",
   "metadata": {},
   "source": [
    "### Order priority yields more sales"
   ]
  },
  {
   "cell_type": "code",
   "execution_count": 300,
   "metadata": {},
   "outputs": [
    {
     "data": {
      "text/html": [
       "<div>\n",
       "<style scoped>\n",
       "    .dataframe tbody tr th:only-of-type {\n",
       "        vertical-align: middle;\n",
       "    }\n",
       "\n",
       "    .dataframe tbody tr th {\n",
       "        vertical-align: top;\n",
       "    }\n",
       "\n",
       "    .dataframe thead th {\n",
       "        text-align: right;\n",
       "    }\n",
       "</style>\n",
       "<table border=\"1\" class=\"dataframe\">\n",
       "  <thead>\n",
       "    <tr style=\"text-align: right;\">\n",
       "      <th></th>\n",
       "      <th>Order Priority</th>\n",
       "      <th>Sales</th>\n",
       "    </tr>\n",
       "  </thead>\n",
       "  <tbody>\n",
       "    <tr>\n",
       "      <th>3</th>\n",
       "      <td>Medium</td>\n",
       "      <td>1.405560e+06</td>\n",
       "    </tr>\n",
       "    <tr>\n",
       "      <th>1</th>\n",
       "      <td>High</td>\n",
       "      <td>7.212330e+05</td>\n",
       "    </tr>\n",
       "    <tr>\n",
       "      <th>0</th>\n",
       "      <td>Critical</td>\n",
       "      <td>1.897858e+05</td>\n",
       "    </tr>\n",
       "    <tr>\n",
       "      <th>2</th>\n",
       "      <td>Low</td>\n",
       "      <td>1.235136e+05</td>\n",
       "    </tr>\n",
       "  </tbody>\n",
       "</table>\n",
       "</div>"
      ],
      "text/plain": [
       "  Order Priority         Sales\n",
       "3         Medium  1.405560e+06\n",
       "1           High  7.212330e+05\n",
       "0       Critical  1.897858e+05\n",
       "2            Low  1.235136e+05"
      ]
     },
     "execution_count": 300,
     "metadata": {},
     "output_type": "execute_result"
    }
   ],
   "source": [
    "filtered_order = data.groupby(\"Order Priority\").filter(lambda x: x[\"Sales\"].sum() >= 0)\n",
    "filtered_data.groupby(\"Order Priority\")[\"Sales\"].sum().reset_index().sort_values(by=\"Sales\", ascending=False)\n"
   ]
  },
  {
   "cell_type": "code",
   "execution_count": 157,
   "metadata": {},
   "outputs": [
    {
     "data": {
      "image/png": "[encoded data removed]",
      "text/plain": [
       "<Figure size 1000x600 with 1 Axes>"
      ]
     },
     "metadata": {},
     "output_type": "display_data"
    }
   ],
   "source": [
    "plt.figure(figsize=(10, 6))\n",
    "\n",
    "sns.barplot(x=\"Order Priority\", y=\"Sales\", data=filtered_order, estimator=sum, ci=None, palette=[\"#003f5d\", \"#2f4b7c\", \"#665191\", \"#a05195\"])\n",
    "plt.title('Distribution of Order Priority',fontdict={'fontsize': 14,\"fontweight\":\"bold\"})\n",
    "plt.xlabel('Order Priority', fontdict={'fontsize': 14})\n",
    "plt.xticks(rotation=45)\n",
    "\n",
    "plt.ylabel('Sales', fontdict={'fontsize': 14})\n",
    "plt.show()"
   ]
  },
  {
   "cell_type": "markdown",
   "metadata": {},
   "source": [
    "## Observation\n",
    "\n",
    "Based on the graph and the calculation above, the \"Medium\" order priority has the highest sales, with a total of approximately 1,405,560."
   ]
  },
  {
   "cell_type": "code",
   "execution_count": null,
   "metadata": {},
   "outputs": [],
   "source": []
  },
  {
   "cell_type": "markdown",
   "metadata": {},
   "source": [
    "### The average shipping cost to each region"
   ]
  },
  {
   "cell_type": "code",
   "execution_count": 164,
   "metadata": {},
   "outputs": [
    {
     "data": {
      "text/html": [
       "<div>\n",
       "<style scoped>\n",
       "    .dataframe tbody tr th:only-of-type {\n",
       "        vertical-align: middle;\n",
       "    }\n",
       "\n",
       "    .dataframe tbody tr th {\n",
       "        vertical-align: top;\n",
       "    }\n",
       "\n",
       "    .dataframe thead th {\n",
       "        text-align: right;\n",
       "    }\n",
       "</style>\n",
       "<table border=\"1\" class=\"dataframe\">\n",
       "  <thead>\n",
       "    <tr style=\"text-align: right;\">\n",
       "      <th></th>\n",
       "      <th>Shipping Cost</th>\n",
       "    </tr>\n",
       "    <tr>\n",
       "      <th>Region</th>\n",
       "      <th></th>\n",
       "    </tr>\n",
       "  </thead>\n",
       "  <tbody>\n",
       "    <tr>\n",
       "      <th>North Asia</th>\n",
       "      <td>40.646112</td>\n",
       "    </tr>\n",
       "    <tr>\n",
       "      <th>Central Asia</th>\n",
       "      <td>38.003003</td>\n",
       "    </tr>\n",
       "    <tr>\n",
       "      <th>Oceania</th>\n",
       "      <td>34.593780</td>\n",
       "    </tr>\n",
       "    <tr>\n",
       "      <th>Southeast Asia</th>\n",
       "      <td>29.937948</td>\n",
       "    </tr>\n",
       "    <tr>\n",
       "      <th>North</th>\n",
       "      <td>27.476299</td>\n",
       "    </tr>\n",
       "    <tr>\n",
       "      <th>Central</th>\n",
       "      <td>26.710494</td>\n",
       "    </tr>\n",
       "    <tr>\n",
       "      <th>East</th>\n",
       "      <td>25.542001</td>\n",
       "    </tr>\n",
       "    <tr>\n",
       "      <th>South</th>\n",
       "      <td>25.353509</td>\n",
       "    </tr>\n",
       "    <tr>\n",
       "      <th>West</th>\n",
       "      <td>23.887687</td>\n",
       "    </tr>\n",
       "    <tr>\n",
       "      <th>Caribbean</th>\n",
       "      <td>21.059260</td>\n",
       "    </tr>\n",
       "    <tr>\n",
       "      <th>Canada</th>\n",
       "      <td>19.285495</td>\n",
       "    </tr>\n",
       "    <tr>\n",
       "      <th>Africa</th>\n",
       "      <td>19.215058</td>\n",
       "    </tr>\n",
       "    <tr>\n",
       "      <th>EMEA</th>\n",
       "      <td>17.573221</td>\n",
       "    </tr>\n",
       "  </tbody>\n",
       "</table>\n",
       "</div>"
      ],
      "text/plain": [
       "                Shipping Cost\n",
       "Region                       \n",
       "North Asia          40.646112\n",
       "Central Asia        38.003003\n",
       "Oceania             34.593780\n",
       "Southeast Asia      29.937948\n",
       "North               27.476299\n",
       "Central             26.710494\n",
       "East                25.542001\n",
       "South               25.353509\n",
       "West                23.887687\n",
       "Caribbean           21.059260\n",
       "Canada              19.285495\n",
       "Africa              19.215058\n",
       "EMEA                17.573221"
      ]
     },
     "execution_count": 164,
     "metadata": {},
     "output_type": "execute_result"
    }
   ],
   "source": [
    "filtered_region=data.groupby(\"Region\")[[\"Shipping Cost\"]].mean().sort_values(by=\"Shipping Cost\", ascending=False)\n",
    "filtered_region"
   ]
  },
  {
   "cell_type": "code",
   "execution_count": 299,
   "metadata": {
    "scrolled": false
   },
   "outputs": [
    {
     "data": {
      "image/png": "[encoded data removed]",
      "text/plain": [
       "<Figure size 1000x600 with 1 Axes>"
      ]
     },
     "metadata": {},
     "output_type": "display_data"
    }
   ],
   "source": [
    "region_shipping_sum = data.groupby(\"Region\")[\"Shipping Cost\"].mean().reset_index()\n",
    "\n",
    "plt.figure(figsize=(10, 6))\n",
    "sns.barplot(x=\"Region\", y=\"Shipping Cost\", data=region_shipping_sum, palette=[\"#ff7f0e\", \"#ff9f00\", \"#ffa600\", \"#ffb600\"])\n",
    "plt.title('The Sum of Shipping Cost Per Region', fontdict={'fontsize': 14, \"fontweight\": \"bold\"})\n",
    "plt.xlabel('Region', fontdict={'fontsize': 14})\n",
    "plt.ylabel('Sum of Shipping Cost', fontdict={'fontsize': 14})\n",
    "plt.xticks(rotation=45)\n",
    "plt.show()\n"
   ]
  },
  {
   "cell_type": "markdown",
   "metadata": {},
   "source": [
    "###  Observations\n",
    "\n",
    "\n",
    "\n",
    "* North Asia has the highest average shipping cost of $40.6"
   ]
  },
  {
   "cell_type": "markdown",
   "metadata": {},
   "source": [
    "### Losses made"
   ]
  },
  {
   "cell_type": "code",
   "execution_count": null,
   "metadata": {},
   "outputs": [],
   "source": []
  },
  {
   "cell_type": "code",
   "execution_count": 146,
   "metadata": {},
   "outputs": [],
   "source": [
    "losses=data[data['Profit']<0][['Market', 'Profit', 'Category']]"
   ]
  },
  {
   "cell_type": "code",
   "execution_count": 147,
   "metadata": {},
   "outputs": [],
   "source": [
    "losscat=data[data['Profit']<0][['Category', 'Profit']]"
   ]
  },
  {
   "cell_type": "code",
   "execution_count": 148,
   "metadata": {},
   "outputs": [
    {
     "data": {
      "image/png": "[encoded data removed]",
      "text/plain": [
       "<Figure size 640x480 with 1 Axes>"
      ]
     },
     "metadata": {},
     "output_type": "display_data"
    }
   ],
   "source": [
    "sns.barplot(x='Category', y='Profit', data=losses, color='firebrick', ci=None)\n",
    "\n",
    "\n",
    "plt.title('Category vs Loss')\n",
    "plt.ylabel('Profit')\n",
    "plt.xlabel('Category')\n",
    "plt.xticks(rotation=45)\n",
    "plt.show()"
   ]
  },
  {
   "cell_type": "markdown",
   "metadata": {},
   "source": [
    "### Obsevation\n",
    "Furniture makes the highest loss in the category section"
   ]
  },
  {
   "cell_type": "code",
   "execution_count": 149,
   "metadata": {},
   "outputs": [
    {
     "data": {
      "text/plain": [
       "Text(0.5, 0, '')"
      ]
     },
     "execution_count": 149,
     "metadata": {},
     "output_type": "execute_result"
    },
    {
     "data": {
      "image/png": "[encoded data removed]",
      "text/plain": [
       "<Figure size 640x480 with 1 Axes>"
      ]
     },
     "metadata": {},
     "output_type": "display_data"
    }
   ],
   "source": [
    "losorder= losses.groupby('Market')['Profit'].mean().sort_values().index\n",
    "\n",
    "sns.barplot(x='Market',y='Profit', data=losses, order=losorder, color='firebrick', ci=None)\n",
    "plt.title('Market vs Loss')\n",
    "plt.ylabel('')\n",
    "plt.xlabel('')"
   ]
  },
  {
   "cell_type": "markdown",
   "metadata": {},
   "source": [
    "### Observation\n",
    "The EU Market makes the most loss in all the markets"
   ]
  },
  {
   "cell_type": "code",
   "execution_count": 150,
   "metadata": {},
   "outputs": [
    {
     "data": {
      "text/plain": [
       "Text(0.5, 0, '')"
      ]
     },
     "execution_count": 150,
     "metadata": {},
     "output_type": "execute_result"
    },
    {
     "data": {
      "image/png": "[encoded data removed]",
      "text/plain": [
       "<Figure size 640x480 with 1 Axes>"
      ]
     },
     "metadata": {},
     "output_type": "display_data"
    }
   ],
   "source": [
    "sns.barplot(x='Market',y='Profit', data=losses, hue='Category',palette=['lightcoral','firebrick','palevioletred'], ci=None)\n",
    "plt.title('Market vs Loss')\n",
    "plt.ylabel('')\n",
    "plt.xlabel('')"
   ]
  },
  {
   "cell_type": "markdown",
   "metadata": {},
   "source": [
    "### Obsevation\n",
    "In all the categories Africa records the highest loss"
   ]
  },
  {
   "cell_type": "code",
   "execution_count": null,
   "metadata": {},
   "outputs": [],
   "source": []
  },
  {
   "cell_type": "code",
   "execution_count": 158,
   "metadata": {},
   "outputs": [
    {
     "data": {
      "text/plain": [
       "UnitPrice                 2.117745\n",
       "ShippingCost              3.248073\n",
       "UnitPrice:ShippingCost    0.001762\n",
       "dtype: float64"
      ]
     },
     "execution_count": 158,
     "metadata": {},
     "output_type": "execute_result"
    }
   ],
   "source": [
    "X=data[['Unit Price','Shipping Cost']]\n",
    "Y=data['Sales']\n",
    "X.rename(columns={'Shipping Cost':'ShippingCost', 'Unit Price':'UnitPrice'}, inplace=True)\n",
    "\n",
    "from sklearn.model_selection import train_test_split\n",
    "X_train,X_test,Y_train,Y_test = train_test_split(X,Y,random_state=42)\n",
    "\n",
    "X_train['Sales'] = Y_train\n",
    "multi_reg = ols('Sales ~ UnitPrice *ShippingCost+0',data = X_train).fit()\n",
    "\n",
    "multi_reg.params"
   ]
  },
  {
   "cell_type": "code",
   "execution_count": 159,
   "metadata": {},
   "outputs": [
    {
     "name": "stdout",
     "output_type": "stream",
     "text": [
      "                                 OLS Regression Results                                \n",
      "=======================================================================================\n",
      "Dep. Variable:                  Sales   R-squared (uncentered):                   0.820\n",
      "Model:                            OLS   Adj. R-squared (uncentered):              0.820\n",
      "Method:                 Least Squares   F-statistic:                          5.838e+04\n",
      "Date:                Sun, 19 May 2024   Prob (F-statistic):                        0.00\n",
      "Time:                        16:54:15   Log-Likelihood:                     -2.6380e+05\n",
      "No. Observations:               38467   AIC:                                  5.276e+05\n",
      "Df Residuals:                   38464   BIC:                                  5.276e+05\n",
      "Df Model:                           3                                                  \n",
      "Covariance Type:            nonrobust                                                  \n",
      "==========================================================================================\n",
      "                             coef    std err          t      P>|t|      [0.025      0.975]\n",
      "------------------------------------------------------------------------------------------\n",
      "UnitPrice                  2.1177      0.013    163.072      0.000       2.092       2.143\n",
      "ShippingCost               3.2481      0.033     98.154      0.000       3.183       3.313\n",
      "UnitPrice:ShippingCost     0.0018   6.74e-05     26.141      0.000       0.002       0.002\n",
      "==============================================================================\n",
      "Omnibus:                    41383.930   Durbin-Watson:                   2.002\n",
      "Prob(Omnibus):                  0.000   Jarque-Bera (JB):         20619089.096\n",
      "Skew:                           4.775   Prob(JB):                         0.00\n",
      "Kurtosis:                     116.019   Cond. No.                         836.\n",
      "==============================================================================\n",
      "\n",
      "Notes:\n",
      "[1] R² is computed without centering (uncentered) since the model does not contain a constant.\n",
      "[2] Standard Errors assume that the covariance matrix of the errors is correctly specified.\n"
     ]
    }
   ],
   "source": [
    "print(multi_reg.summary())"
   ]
  },
  {
   "cell_type": "code",
   "execution_count": 160,
   "metadata": {},
   "outputs": [],
   "source": [
    "multi_reg  = multi_reg.predict(X_test)\n",
    "\n",
    "multi_reg = multi_reg.reset_index(drop = True)\n",
    "\n",
    "Y_test = Y_test.reset_index(drop =True )\n"
   ]
  },
  {
   "cell_type": "code",
   "execution_count": 161,
   "metadata": {},
   "outputs": [
    {
     "data": {
      "text/plain": [
       "0         641.400\n",
       "1          50.580\n",
       "2          61.710\n",
       "3         396.576\n",
       "4          16.440\n",
       "           ...   \n",
       "12818     328.640\n",
       "12819     214.900\n",
       "12820     185.010\n",
       "12821      40.290\n",
       "12822    1508.040\n",
       "Name: Sales, Length: 12823, dtype: float64"
      ]
     },
     "execution_count": 161,
     "metadata": {},
     "output_type": "execute_result"
    }
   ],
   "source": [
    "Y_test"
   ]
  },
  {
   "cell_type": "code",
   "execution_count": 164,
   "metadata": {},
   "outputs": [
    {
     "data": {
      "image/png": "[encoded data removed]",
      "text/plain": [
       "<Figure size 1400x500 with 1 Axes>"
      ]
     },
     "metadata": {},
     "output_type": "display_data"
    }
   ],
   "source": [
    "plt.figure(figsize=(14,5))\n",
    "plt.plot(Y_test,color = 'blue',label='Actual values')\n",
    "plt.plot(multi_reg,color = 'red',label='Predicted values')\n",
    "plt.ylabel('Price',fontdict = {'fontweight':20,'fontsize':15})\n",
    "plt.legend()\n",
    "plt.show()"
   ]
  },
  {
   "cell_type": "markdown",
   "metadata": {},
   "source": [
    "### Observation\n",
    "\n",
    "The model has an R-squared value of approximately 0.82, indicating that around 82% of the variability in sales is explained by the predictor variables.\n",
    "The coefficients of the model indicate the estimated effect of each predictor on sales:\n",
    "For every one-unit increase in UnitPrice, sales are estimated to increase by approximately 2.12 units.\n",
    "For every one-unit increase in ShippingCost, sales are estimated to increase by approximately 3.25 units.\n",
    "The interaction term UnitPrice:ShippingCost suggests that the effect of UnitPrice on sales may depend on the value of ShippingCost, and vice versa."
   ]
  },
  {
   "cell_type": "markdown",
   "metadata": {},
   "source": [
    "### Products to be targeted to the different markets\n",
    "\n"
   ]
  },
  {
   "cell_type": "code",
   "execution_count": 167,
   "metadata": {},
   "outputs": [],
   "source": [
    "data[\"Shipping interval\"]=data[\"Shipping interval\"].astype(str)"
   ]
  },
  {
   "cell_type": "code",
   "execution_count": 168,
   "metadata": {},
   "outputs": [
    {
     "name": "stdout",
     "output_type": "stream",
     "text": [
      "Correlation between Interval and Sales: -0.004659709218983872\n",
      "Correlation between Interval and Profit: 0.001744785246734459\n"
     ]
    }
   ],
   "source": [
    "\n",
    "data['Shipping interval']=data[\"Shipping interval\"].str.strip(\"days\").astype(int)\n",
    "\n",
    "\n",
    "correlation_sales = data[\"Shipping interval\"].corr(data[\"Sales\"])\n",
    "\n",
    "\n",
    "correlation_profit = data[\"Shipping interval\"].corr(data[\"Profit\"])\n",
    "\n",
    "print(\"Correlation between Interval and Sales:\", correlation_sales)\n",
    "print(\"Correlation between Interval and Profit:\", correlation_profit)\n"
   ]
  },
  {
   "cell_type": "code",
   "execution_count": 169,
   "metadata": {
    "scrolled": false
   },
   "outputs": [
    {
     "data": {
      "image/png": "[encoded data removed]",
      "text/plain": [
       "<Figure size 1000x800 with 2 Axes>"
      ]
     },
     "metadata": {},
     "output_type": "display_data"
    }
   ],
   "source": [
    "\n",
    "numerical_data = data.select_dtypes(include=['number'])\n",
    "corr = numerical_data.corr()\n",
    "\n",
    "plt.figure(figsize=(10, 8))\n",
    "sns.heatmap(corr, annot=True, fmt=\".2f\", cmap='coolwarm', square=True, linewidths=.5)\n",
    "plt.title('Correlation Heatmap of Numerical Variables')\n",
    "plt.show()"
   ]
  },
  {
   "cell_type": "markdown",
   "metadata": {},
   "source": [
    "### Observation\n",
    "* The correlation between the Interval and Sales is -0.005 this suggests that there is virtually no linear relationship between the shipping interval     and sales. Thus as the interval for order date and shipping increases, sales might decrease very slightly, but the effect is so minimal it's likely negligible.\n",
    "\n",
    "\n",
    "\n",
    "\n",
    "* The correlation between the Interval and Profit is also very close to 0, indicating almost no linear relationship between the shipping interval and profit. This implying that as the shipping interval increases, profit might also increase slightly."
   ]
  },
  {
   "cell_type": "markdown",
   "metadata": {
    "id": "eNA4PIEnbBsk"
   },
   "source": [
    "## CONCLUSION\n",
    "* Discounts: Since discounts are not given on products or are minimal, the variable doesn't have a significant effect on the other variables in the dataset. This suggests that discounts are not a significant factor influencing sales or profit.\n",
    "\n",
    "* Profit: The profit is heavily influenced by the sales unit price and shipping cost. When the sales unit price and shipping cost increase, the profit also tends to increase. This indicates that focusing on maximizing sales unit price and managing shipping costs could lead to higher profits.\n",
    "\n",
    "* Shipping Interval: The interval between the order date and shipping date does not have a significant effect on the amount of sales generated. Additionally, it does not appear to have a significant impact on the profitability of the orders. This suggests that customers may not be sensitive to the shipping time, or other factors might be more influential in their purchasing decisions."
   ]
  },
  {
   "cell_type": "markdown",
   "metadata": {},
   "source": [
    "## RECOMENDATION\n",
    "\n",
    "* Since profit is influenced by the sales unit price, there should be more focus on strategies to increase the price of their products without compromising on customer satisfaction. This can be done through introduction of slightly better product quality and uniqueness, or implementing value-added services.\n",
    "\n",
    "* Since discounts are not given on most of the product, i would recommend that they intoduce discounts on quantities. this can also boost the sales and eventually the profits.\n"
   ]
  }
 ],
 "metadata": {
  "colab": {
   "provenance": []
  },
  "kernelspec": {
   "display_name": "Python 3 (ipykernel)",
   "language": "python",
   "name": "python3"
  },
  "language_info": {
   "codemirror_mode": {
    "name": "ipython",
    "version": 3
   },
   "file_extension": ".py",
   "mimetype": "text/x-python",
   "name": "python",
   "nbconvert_exporter": "python",
   "pygments_lexer": "ipython3",
   "version": "3.11.5"
  }
 },
 "nbformat": 4,
 "nbformat_minor": 1
}
